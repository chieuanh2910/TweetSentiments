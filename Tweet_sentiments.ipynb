{
  "cells": [
    {
      "cell_type": "markdown",
      "metadata": {
        "id": "view-in-github",
        "colab_type": "text"
      },
      "source": [
        "<a href=\"https://colab.research.google.com/github/chieuanh2910/TweetSentiments/blob/main/Tweet_sentiments.ipynb\" target=\"_parent\"><img src=\"https://colab.research.google.com/assets/colab-badge.svg\" alt=\"Open In Colab\"/></a>"
      ]
    },
    {
      "cell_type": "markdown",
      "source": [
        "# Tweet sentiment analytics"
      ],
      "metadata": {
        "id": "ZxL_XI2vxfHJ"
      }
    },
    {
      "cell_type": "markdown",
      "metadata": {
        "id": "AUCdWjQ8s2Vg"
      },
      "source": [
        "## Table of Content\n",
        "\n",
        "1. [Executive Summary](#cell_executivesummary)\n",
        "\n",
        "\n",
        "2. [Data Exploration](#cell_exploration)\n",
        "\n",
        "\n",
        "3. [Sentiment Analysis](#cell_sentiment)\n",
        "\n",
        "\n",
        "4. [Topic Modeling](#cell_TopicModeling)\n",
        "\n",
        "\n",
        "5. [Practical Implication](#cell_PracticalImplication)\n"
      ]
    },
    {
      "cell_type": "markdown",
      "metadata": {
        "id": "THnW6RPgLLf6"
      },
      "source": [
        "<a id = \"cell_executivesummary\"></a>\n",
        "### 1. Executive Summary\n"
      ]
    },
    {
      "cell_type": "markdown",
      "source": [
        "This analysis delves into the sentiment of airline tweets using a Python-based approach. The dataset was meticulously explored, revealing valuable insights into the opinions and feelings of customers towards different airlines.\n",
        "\n",
        "Among the significant findings, it was observed that United Airlines emerged as the most talked-about airline, generating 3822 tweets, closely followed by US Airways and American Airlines. In terms of geographic distribution, the top five states with the highest customer engagement were identified as New York, California, Texas, Massachusetts, and North Carolina.\n",
        "\n",
        "The analysis employed two predictive models, Multinomial Naive Bayes and Random Forest, to forecast tweet sentiment. These models allowed for a comprehensive understanding of the general sentiment trend across the different airlines.\n",
        "\n",
        "Upon further examination, it was observed that United Airlines stood out with the highest proportion of positive tweets, while US Airways faced a higher proportion of negative sentiment.\n",
        "\n",
        "To extract deeper insights, Latent Dirichlet Allocation (LDA) technique was applied for topic modeling. The technique unveiled ten distinct topics, with the most prevalent negative issues revolving around prolonged waiting times, customer service concerns, booking system difficulties, and subpar phone call experiences.\n",
        "\n",
        "In summary, this analysis has successfully utilized Python to explore and interpret the sentiment of airline tweets. By identifying trends, opinions, and critical topics, the study provides a comprehensive overview of customer perceptions and experiences, allowing airlines to make informed decisions and improvements."
      ],
      "metadata": {
        "id": "l-1Oz99M-ack"
      }
    },
    {
      "cell_type": "markdown",
      "metadata": {
        "id": "Eql8BBP8s2Vh"
      },
      "source": [
        "<a id = \"cell_exploration\"></a>\n",
        "### 2. Data Exploration\n",
        "\n"
      ]
    },
    {
      "cell_type": "markdown",
      "source": [
        "This part is started with dataset import. The dataset containes 14640 rows and 15 columns. The columns: tweet_id, airline_sentiment, airline_sentiment_confidence, airline, name, retweet_count, text, tweet_created have no missing values. Among column having missing vaues, airline_sentiment_gold and negativereason_gold have the higgest amount of null values. The dataset consists of 36 duplicated rows with are then removed before further analysis.  \n",
        "\n",
        "Based on the bar graph, United airline is the most poular with 3822 tweets. US Airways takes the second position with 2913 twweets, American being the third with 2723 tweets. Southwest and Delta is in the fourth and the fifth popularity respectively. Last is Virgin America airline with only 504 tweets\n",
        "\n",
        "The top 5 most popular states are New York (NY), Calfifornia (CA), Texas (TX), Massachusetts (MA), and North Carolina (NC). There are 257 customers in NY, 244 in CA, 166 in TX, 154 in MA, and 78 in NC."
      ],
      "metadata": {
        "id": "E4cwdWM7CkLL"
      }
    },
    {
      "cell_type": "markdown",
      "source": [
        "**Import Dataset**"
      ],
      "metadata": {
        "id": "JCdOylkQb-48"
      }
    },
    {
      "cell_type": "code",
      "execution_count": null,
      "metadata": {
        "id": "u2Oqj0Gos2Vi"
      },
      "outputs": [],
      "source": [
        "import pandas as pd\n",
        "import numpy as np\n",
        "import sklearn\n",
        "from scipy import stats\n",
        "import matplotlib.pyplot as plt\n",
        "import os\n",
        "import seaborn as sns\n",
        "from functools import reduce\n"
      ]
    },
    {
      "cell_type": "code",
      "source": [
        "from google.colab import drive\n",
        "drive.mount('/content/drive')"
      ],
      "metadata": {
        "colab": {
          "base_uri": "https://localhost:8080/"
        },
        "id": "uuo5p8tHdPXP",
        "outputId": "5a20ada8-a183-460a-d073-a1a7f8ba853f"
      },
      "execution_count": null,
      "outputs": [
        {
          "output_type": "stream",
          "name": "stdout",
          "text": [
            "Drive already mounted at /content/drive; to attempt to forcibly remount, call drive.mount(\"/content/drive\", force_remount=True).\n"
          ]
        }
      ]
    },
    {
      "cell_type": "code",
      "source": [
        "df = pd.read_csv('/content/drive/MyDrive/MIS780 Dataset/A1 Data Set.csv')"
      ],
      "metadata": {
        "id": "qsJcI0FMc93N"
      },
      "execution_count": null,
      "outputs": []
    },
    {
      "cell_type": "code",
      "source": [
        "df.shape"
      ],
      "metadata": {
        "colab": {
          "base_uri": "https://localhost:8080/"
        },
        "id": "pNRWHg3nezcs",
        "outputId": "64613010-df0e-403f-d8bf-211bac2c7cdf"
      },
      "execution_count": null,
      "outputs": [
        {
          "output_type": "execute_result",
          "data": {
            "text/plain": [
              "(14640, 15)"
            ]
          },
          "metadata": {},
          "execution_count": 6
        }
      ]
    },
    {
      "cell_type": "code",
      "source": [
        "df.info()"
      ],
      "metadata": {
        "colab": {
          "base_uri": "https://localhost:8080/"
        },
        "id": "RdIzilAVese2",
        "outputId": "0f2d8b76-9b5f-4c6e-dbb1-6e5ebd33ce1e"
      },
      "execution_count": null,
      "outputs": [
        {
          "output_type": "stream",
          "name": "stdout",
          "text": [
            "<class 'pandas.core.frame.DataFrame'>\n",
            "RangeIndex: 14640 entries, 0 to 14639\n",
            "Data columns (total 15 columns):\n",
            " #   Column                        Non-Null Count  Dtype  \n",
            "---  ------                        --------------  -----  \n",
            " 0   tweet_id                      14640 non-null  int64  \n",
            " 1   airline_sentiment             14640 non-null  object \n",
            " 2   airline_sentiment_confidence  14640 non-null  float64\n",
            " 3   negativereason                9178 non-null   object \n",
            " 4   negativereason_confidence     10522 non-null  float64\n",
            " 5   airline                       14640 non-null  object \n",
            " 6   airline_sentiment_gold        40 non-null     object \n",
            " 7   name                          14640 non-null  object \n",
            " 8   negativereason_gold           32 non-null     object \n",
            " 9   retweet_count                 14640 non-null  int64  \n",
            " 10  text                          14640 non-null  object \n",
            " 11  tweet_coord                   1019 non-null   object \n",
            " 12  tweet_created                 14640 non-null  object \n",
            " 13  tweet_location                9907 non-null   object \n",
            " 14  user_timezone                 9820 non-null   object \n",
            "dtypes: float64(2), int64(2), object(11)\n",
            "memory usage: 1.7+ MB\n"
          ]
        }
      ]
    },
    {
      "cell_type": "markdown",
      "metadata": {
        "id": "YYdoTx6qs2Vi"
      },
      "source": [
        "**Check for duplicated rows**\n",
        "\n",
        "\n",
        "\n",
        "\n"
      ]
    },
    {
      "cell_type": "code",
      "execution_count": null,
      "metadata": {
        "id": "o-DQYtYws2Vj",
        "colab": {
          "base_uri": "https://localhost:8080/"
        },
        "outputId": "64b02750-f34f-40e1-b988-45e97087bfae"
      },
      "outputs": [
        {
          "output_type": "stream",
          "name": "stdout",
          "text": [
            "Number of duplicated rows: 36\n"
          ]
        }
      ],
      "source": [
        "num_duplicated_rows = df.duplicated().sum()\n",
        "\n",
        "print(\"Number of duplicated rows:\", num_duplicated_rows)"
      ]
    },
    {
      "cell_type": "markdown",
      "source": [
        "**Remove duplicated rows**\n",
        "\n",
        "\n"
      ],
      "metadata": {
        "id": "RsnEfU6hn_SV"
      }
    },
    {
      "cell_type": "code",
      "source": [
        "df = df.drop_duplicates()"
      ],
      "metadata": {
        "id": "55jkww9UpfYa"
      },
      "execution_count": null,
      "outputs": []
    },
    {
      "cell_type": "markdown",
      "source": [
        "**Airline popularity ranking**"
      ],
      "metadata": {
        "id": "xjJO2o6YGRTZ"
      }
    },
    {
      "cell_type": "code",
      "source": [
        "airline_counts = df['airline'].value_counts()\n",
        "airline_counts"
      ],
      "metadata": {
        "colab": {
          "base_uri": "https://localhost:8080/"
        },
        "id": "LK_VPqNooPBs",
        "outputId": "5be7ed8b-6a02-4fe8-8da4-74f2fba6fcaa"
      },
      "execution_count": null,
      "outputs": [
        {
          "output_type": "execute_result",
          "data": {
            "text/plain": [
              "United            3822\n",
              "US Airways        2913\n",
              "American          2723\n",
              "Southwest         2420\n",
              "Delta             2222\n",
              "Virgin America     504\n",
              "Name: airline, dtype: int64"
            ]
          },
          "metadata": {},
          "execution_count": 10
        }
      ]
    },
    {
      "cell_type": "code",
      "source": [
        "plt.figure(figsize=(10, 6))\n",
        "plt.bar(airline_counts.index, airline_counts, color='#46185e')\n",
        "plt.xlabel('Airline')\n",
        "plt.ylabel('Count')\n",
        "plt.title('Popularity of Airlines based on Tweet counts')\n",
        "plt.xticks(rotation=45)\n",
        "for x, y in zip(airline_counts.index, airline_counts):\n",
        "    plt.text(x, y, str(y), ha='center', va='bottom', color='black', fontweight='bold',fontsize=9)\n",
        "plt.tight_layout()\n"
      ],
      "metadata": {
        "colab": {
          "base_uri": "https://localhost:8080/",
          "height": 607
        },
        "id": "y2FGEYWtqhjc",
        "outputId": "3a56e189-f196-40d1-bad4-03cd6c8d9898"
      },
      "execution_count": null,
      "outputs": [
        {
          "output_type": "display_data",
          "data": {
            "text/plain": [
              "<Figure size 1000x600 with 1 Axes>"
            ],
            "image/png": "[encoded data removed]"
          },
          "metadata": {}
        }
      ]
    },
    {
      "cell_type": "markdown",
      "source": [
        "**Most popular states**"
      ],
      "metadata": {
        "id": "lLp9JKrbr9YN"
      }
    },
    {
      "cell_type": "code",
      "source": [
        "#extract customer location by State\n",
        "pattern = r'\\b(AL|AK|AZ|AR|CA|CO|CT|DE|FL|GA|HI|ID|IL|IN|IA|KS|KY|LA|ME|MD|MA|MI|MN|MS|MO|MT|NE|NV|NH|NJ|NM|NY|NC|ND|OH|OK|OR|PA|RI|SC|SD|TN|TX|UT|VT|VA|WA|WV|WI|WY)\\b'\n",
        "df['State'] = df['tweet_location'].str.extract(pattern)"
      ],
      "metadata": {
        "id": "hQBXJ4KLr8q0"
      },
      "execution_count": null,
      "outputs": []
    },
    {
      "cell_type": "code",
      "source": [
        "#Count unique customer in each State\n",
        "state_counts = df.groupby('State')['name'].nunique()\n",
        "state_counts = state_counts.sort_values(ascending=False)\n",
        "plt.figure(figsize=(12, 6))\n",
        "plt.bar(state_counts.index, state_counts, color='#46185e')\n",
        "plt.xlabel('State')\n",
        "plt.ylabel('Count')\n",
        "plt.title('Popularity of States based on Tweet counts')\n",
        "plt.xticks(rotation=90)\n",
        "for x, y in zip(state_counts.index, state_counts):\n",
        "    plt.text(x, y, str(y), ha='center', va='bottom', color='black', fontweight='bold',fontsize=9)\n",
        "plt.tight_layout()\n",
        "plt.show()\n"
      ],
      "metadata": {
        "colab": {
          "base_uri": "https://localhost:8080/",
          "height": 607
        },
        "id": "Bkk3UL2btcZj",
        "outputId": "0c8277f6-5889-4fb9-d310-7ad29ff84aee"
      },
      "execution_count": null,
      "outputs": [
        {
          "output_type": "display_data",
          "data": {
            "text/plain": [
              "<Figure size 1200x600 with 1 Axes>"
            ],
            "image/png": "[encoded data removed]"
          },
          "metadata": {}
        }
      ]
    },
    {
      "cell_type": "markdown",
      "metadata": {
        "id": "OTQmyIAFs2Vj"
      },
      "source": [
        "<a id = \"cell_sentiment\"></a>\n",
        "### 3. Sentiment Analysis"
      ]
    },
    {
      "cell_type": "markdown",
      "source": [
        "It is possible to predict tweet's sentiments using machine learning approach. The Multimonimal Naive Bayes and Randon Forest models will be applied to do the prediction.The feature variable will be texts in 'text' column, and the label will be airline_sentiment column.\n",
        "\n",
        "The preprocessing steps include remove number and symbols such as \"<br/>\", \"(<a)\", \"(>)\", etc to return a cleaner text. The clean text will then be removed from common stop words to create bag of word (BoW) matrix which is helpful to train the models.\n",
        "\n",
        "The models are split into 70% for training, and 30% for testing. The dataset will be reduced dmensionality through Univariate selection method in order to have better result for the Random Forest model.\n",
        "\n",
        "**Result interpretation for Multinomial Naive Bayes model**\n",
        "\n",
        "The model accuracy is 0.749\n",
        "\n",
        "Classification Report:\n",
        "```\n",
        "                 precision    recall  f1-score   support\n",
        "\n",
        "    Positive       0.77      0.93      0.84      2741\n",
        "     Neutral       0.64      0.38      0.48       936\n",
        "    Negative       0.73      0.52      0.61       715\n",
        "\n",
        "    accuracy                           0.75      4392\n",
        "   macro avg       0.71      0.61      0.64      4392\n",
        "weighted avg       0.74      0.75      0.73      4392\n",
        "\n",
        "```\n",
        "Precision measures how many of the predicted positive instances are actually positive. For this model report, the precision for Positive sentiment is 77%, Neutral sentiment is 64%, and Negative sentiment is 73%.\n",
        "\n",
        "Recall is the measure of how many of the actual positive instances are correctly predicted. Recall for Positive sentiment is 93%, Neutrals sentiment is 38%, and Negative sentiment is 52%.\n",
        "\n",
        "F1-score is a metric which takes into account both precision and recall. It is calculated as 2 * (precision * recall) / (precision + recall). In this report, F1-score for Positive sentiment is 0.84, Neutral sentiment is 0.48, and Negative sentiment is 0.61.\n",
        "\n",
        "Weighted Average: The average of precision, recall, and F1-score, weighted by the number of true instances for each class. It accounts for class imbalance\n",
        "\n",
        "It can bee seen that this model appears to perform well in predicting the \"Positive\" sentiment class  with high precision and recall. However it struggles with the \"Neutral\" and \"Negative\" classes, especically in terms of recall.\n",
        "\n",
        "**Result interpretation for Random Forest model**\n",
        "```\n",
        "Classification Report:\n",
        "               precision    recall  f1-score   support\n",
        "\n",
        "    negative       0.79      0.90      0.84      2741\n",
        "     neutral       0.58      0.45      0.51       936\n",
        "    positive       0.72      0.56      0.63       715\n",
        "\n",
        "    accuracy                           0.75      4392\n",
        "   macro avg       0.70      0.64      0.66      4392\n",
        "weighted avg       0.74      0.75      0.74      4392\n",
        "```\n",
        "For this model report, the precision for Neagtive sentiment is 79%, Neutral sentiment is 58%, and Postive sentiment is 72%.\n",
        "\n",
        "Recall for Negative sentiment is 90%, Neutrals sentiment is 45%, and Positive sentiment is 56%.\n",
        "\n",
        "F1-score for Negative sentiment is 0.84, Neutral sentiment is 0.51, and Positive sentiment is 0.63.\n",
        "\n",
        "It can bee seen that this model appears to perform well in predicting the \"Negative\" sentiment class  with high precision and recall. However it struggles with the \"Neutral\" while \"Positive\" classes seems to be moderately well."
      ],
      "metadata": {
        "id": "JGytk2tCGu-_"
      }
    },
    {
      "cell_type": "markdown",
      "source": [
        "**Clean text processes**"
      ],
      "metadata": {
        "id": "8rJoL3sFt2RY"
      }
    },
    {
      "cell_type": "code",
      "source": [
        "def preprocess(Text):\n",
        "    Text = Text.str.replace(\"(<br/>)\", \"\")\n",
        "    Text = Text.str.replace('(<a).*(>).*(</a>)', '')\n",
        "    Text = Text.str.replace('(&amp)', '')\n",
        "    Text = Text.str.replace('(&gt)', '')\n",
        "    Text = Text.str.replace('(&lt)', '')\n",
        "    Text = Text.str.replace('(\\xa0)', ' ')\n",
        "    return Text\n",
        "\n",
        "df['text'] = preprocess(df['text']) #Clean text\n",
        "\n",
        "#Create new feature for the length of the review.\n",
        "df['text_len'] = df['text'].astype(str).apply(len)\n",
        "#Create new feature for the word count of the review.\n",
        "df['word_count'] = df['text'].apply(lambda x: len(str(x).split()))\n",
        "df.head()"
      ],
      "metadata": {
        "colab": {
          "base_uri": "https://localhost:8080/",
          "height": 704
        },
        "id": "qi0PQr7q4Dn5",
        "outputId": "4e3c0ec1-4a30-4863-ca77-ad76339aec6a"
      },
      "execution_count": null,
      "outputs": [
        {
          "output_type": "stream",
          "name": "stderr",
          "text": [
            "<ipython-input-14-91332f32e17f>:2: FutureWarning: The default value of regex will change from True to False in a future version.\n",
            "  Text = Text.str.replace(\"(<br/>)\", \"\")\n",
            "<ipython-input-14-91332f32e17f>:3: FutureWarning: The default value of regex will change from True to False in a future version.\n",
            "  Text = Text.str.replace('(<a).*(>).*(</a>)', '')\n",
            "<ipython-input-14-91332f32e17f>:4: FutureWarning: The default value of regex will change from True to False in a future version.\n",
            "  Text = Text.str.replace('(&amp)', '')\n",
            "<ipython-input-14-91332f32e17f>:5: FutureWarning: The default value of regex will change from True to False in a future version.\n",
            "  Text = Text.str.replace('(&gt)', '')\n",
            "<ipython-input-14-91332f32e17f>:6: FutureWarning: The default value of regex will change from True to False in a future version.\n",
            "  Text = Text.str.replace('(&lt)', '')\n",
            "<ipython-input-14-91332f32e17f>:7: FutureWarning: The default value of regex will change from True to False in a future version.\n",
            "  Text = Text.str.replace('(\\xa0)', ' ')\n"
          ]
        },
        {
          "output_type": "execute_result",
          "data": {
            "text/plain": [
              "             tweet_id airline_sentiment  airline_sentiment_confidence  \\\n",
              "0  570306133677760513           neutral                        1.0000   \n",
              "1  570301130888122368          positive                        0.3486   \n",
              "2  570301083672813571           neutral                        0.6837   \n",
              "3  570301031407624196          negative                        1.0000   \n",
              "4  570300817074462722          negative                        1.0000   \n",
              "\n",
              "  negativereason  negativereason_confidence         airline  \\\n",
              "0            NaN                        NaN  Virgin America   \n",
              "1            NaN                     0.0000  Virgin America   \n",
              "2            NaN                        NaN  Virgin America   \n",
              "3     Bad Flight                     0.7033  Virgin America   \n",
              "4     Can't Tell                     1.0000  Virgin America   \n",
              "\n",
              "  airline_sentiment_gold        name negativereason_gold  retweet_count  \\\n",
              "0                    NaN     cairdin                 NaN              0   \n",
              "1                    NaN    jnardino                 NaN              0   \n",
              "2                    NaN  yvonnalynn                 NaN              0   \n",
              "3                    NaN    jnardino                 NaN              0   \n",
              "4                    NaN    jnardino                 NaN              0   \n",
              "\n",
              "                                                text tweet_coord  \\\n",
              "0                @VirginAmerica What @dhepburn said.         NaN   \n",
              "1  @VirginAmerica plus you've added commercials t...         NaN   \n",
              "2  @VirginAmerica I didn't today... Must mean I n...         NaN   \n",
              "3  @VirginAmerica it's really aggressive to blast...         NaN   \n",
              "4  @VirginAmerica and it's a really big bad thing...         NaN   \n",
              "\n",
              "               tweet_created tweet_location               user_timezone State  \\\n",
              "0  2015-02-24 11:35:52 -0800            NaN  Eastern Time (US & Canada)   NaN   \n",
              "1  2015-02-24 11:15:59 -0800            NaN  Pacific Time (US & Canada)   NaN   \n",
              "2  2015-02-24 11:15:48 -0800      Lets Play  Central Time (US & Canada)   NaN   \n",
              "3  2015-02-24 11:15:36 -0800            NaN  Pacific Time (US & Canada)   NaN   \n",
              "4  2015-02-24 11:14:45 -0800            NaN  Pacific Time (US & Canada)   NaN   \n",
              "\n",
              "   text_len  word_count  \n",
              "0        35           4  \n",
              "1        72           9  \n",
              "2        71          12  \n",
              "3       122          17  \n",
              "4        55          10  "
            ],
            "text/html": [
              "\n",
              "\n",
              "  <div id=\"df-a612d515-f71e-4a4c-af76-54a4e6dae1f2\">\n",
              "    <div class=\"colab-df-container\">\n",
              "      <div>\n",
              "<style scoped>\n",
              "    .dataframe tbody tr th:only-of-type {\n",
              "        vertical-align: middle;\n",
              "    }\n",
              "\n",
              "    .dataframe tbody tr th {\n",
              "        vertical-align: top;\n",
              "    }\n",
              "\n",
              "    .dataframe thead th {\n",
              "        text-align: right;\n",
              "    }\n",
              "</style>\n",
              "<table border=\"1\" class=\"dataframe\">\n",
              "  <thead>\n",
              "    <tr style=\"text-align: right;\">\n",
              "      <th></th>\n",
              "      <th>tweet_id</th>\n",
              "      <th>airline_sentiment</th>\n",
              "      <th>airline_sentiment_confidence</th>\n",
              "      <th>negativereason</th>\n",
              "      <th>negativereason_confidence</th>\n",
              "      <th>airline</th>\n",
              "      <th>airline_sentiment_gold</th>\n",
              "      <th>name</th>\n",
              "      <th>negativereason_gold</th>\n",
              "      <th>retweet_count</th>\n",
              "      <th>text</th>\n",
              "      <th>tweet_coord</th>\n",
              "      <th>tweet_created</th>\n",
              "      <th>tweet_location</th>\n",
              "      <th>user_timezone</th>\n",
              "      <th>State</th>\n",
              "      <th>text_len</th>\n",
              "      <th>word_count</th>\n",
              "    </tr>\n",
              "  </thead>\n",
              "  <tbody>\n",
              "    <tr>\n",
              "      <th>0</th>\n",
              "      <td>570306133677760513</td>\n",
              "      <td>neutral</td>\n",
              "      <td>1.0000</td>\n",
              "      <td>NaN</td>\n",
              "      <td>NaN</td>\n",
              "      <td>Virgin America</td>\n",
              "      <td>NaN</td>\n",
              "      <td>cairdin</td>\n",
              "      <td>NaN</td>\n",
              "      <td>0</td>\n",
              "      <td>@VirginAmerica What @dhepburn said.</td>\n",
              "      <td>NaN</td>\n",
              "      <td>2015-02-24 11:35:52 -0800</td>\n",
              "      <td>NaN</td>\n",
              "      <td>Eastern Time (US &amp; Canada)</td>\n",
              "      <td>NaN</td>\n",
              "      <td>35</td>\n",
              "      <td>4</td>\n",
              "    </tr>\n",
              "    <tr>\n",
              "      <th>1</th>\n",
              "      <td>570301130888122368</td>\n",
              "      <td>positive</td>\n",
              "      <td>0.3486</td>\n",
              "      <td>NaN</td>\n",
              "      <td>0.0000</td>\n",
              "      <td>Virgin America</td>\n",
              "      <td>NaN</td>\n",
              "      <td>jnardino</td>\n",
              "      <td>NaN</td>\n",
              "      <td>0</td>\n",
              "      <td>@VirginAmerica plus you've added commercials t...</td>\n",
              "      <td>NaN</td>\n",
              "      <td>2015-02-24 11:15:59 -0800</td>\n",
              "      <td>NaN</td>\n",
              "      <td>Pacific Time (US &amp; Canada)</td>\n",
              "      <td>NaN</td>\n",
              "      <td>72</td>\n",
              "      <td>9</td>\n",
              "    </tr>\n",
              "    <tr>\n",
              "      <th>2</th>\n",
              "      <td>570301083672813571</td>\n",
              "      <td>neutral</td>\n",
              "      <td>0.6837</td>\n",
              "      <td>NaN</td>\n",
              "      <td>NaN</td>\n",
              "      <td>Virgin America</td>\n",
              "      <td>NaN</td>\n",
              "      <td>yvonnalynn</td>\n",
              "      <td>NaN</td>\n",
              "      <td>0</td>\n",
              "      <td>@VirginAmerica I didn't today... Must mean I n...</td>\n",
              "      <td>NaN</td>\n",
              "      <td>2015-02-24 11:15:48 -0800</td>\n",
              "      <td>Lets Play</td>\n",
              "      <td>Central Time (US &amp; Canada)</td>\n",
              "      <td>NaN</td>\n",
              "      <td>71</td>\n",
              "      <td>12</td>\n",
              "    </tr>\n",
              "    <tr>\n",
              "      <th>3</th>\n",
              "      <td>570301031407624196</td>\n",
              "      <td>negative</td>\n",
              "      <td>1.0000</td>\n",
              "      <td>Bad Flight</td>\n",
              "      <td>0.7033</td>\n",
              "      <td>Virgin America</td>\n",
              "      <td>NaN</td>\n",
              "      <td>jnardino</td>\n",
              "      <td>NaN</td>\n",
              "      <td>0</td>\n",
              "      <td>@VirginAmerica it's really aggressive to blast...</td>\n",
              "      <td>NaN</td>\n",
              "      <td>2015-02-24 11:15:36 -0800</td>\n",
              "      <td>NaN</td>\n",
              "      <td>Pacific Time (US &amp; Canada)</td>\n",
              "      <td>NaN</td>\n",
              "      <td>122</td>\n",
              "      <td>17</td>\n",
              "    </tr>\n",
              "    <tr>\n",
              "      <th>4</th>\n",
              "      <td>570300817074462722</td>\n",
              "      <td>negative</td>\n",
              "      <td>1.0000</td>\n",
              "      <td>Can't Tell</td>\n",
              "      <td>1.0000</td>\n",
              "      <td>Virgin America</td>\n",
              "      <td>NaN</td>\n",
              "      <td>jnardino</td>\n",
              "      <td>NaN</td>\n",
              "      <td>0</td>\n",
              "      <td>@VirginAmerica and it's a really big bad thing...</td>\n",
              "      <td>NaN</td>\n",
              "      <td>2015-02-24 11:14:45 -0800</td>\n",
              "      <td>NaN</td>\n",
              "      <td>Pacific Time (US &amp; Canada)</td>\n",
              "      <td>NaN</td>\n",
              "      <td>55</td>\n",
              "      <td>10</td>\n",
              "    </tr>\n",
              "  </tbody>\n",
              "</table>\n",
              "</div>\n",
              "      <button class=\"colab-df-convert\" onclick=\"convertToInteractive('df-a612d515-f71e-4a4c-af76-54a4e6dae1f2')\"\n",
              "              title=\"Convert this dataframe to an interactive table.\"\n",
              "              style=\"display:none;\">\n",
              "\n",
              "  <svg xmlns=\"http://www.w3.org/2000/svg\" height=\"24px\"viewBox=\"0 0 24 24\"\n",
              "       width=\"24px\">\n",
              "    <path d=\"M0 0h24v24H0V0z\" fill=\"none\"/>\n",
              "    <path d=\"M18.56 5.44l.94 2.06.94-2.06 2.06-.94-2.06-.94-.94-2.06-.94 2.06-2.06.94zm-11 1L8.5 8.5l.94-2.06 2.06-.94-2.06-.94L8.5 2.5l-.94 2.06-2.06.94zm10 10l.94 2.06.94-2.06 2.06-.94-2.06-.94-.94-2.06-.94 2.06-2.06.94z\"/><path d=\"M17.41 7.96l-1.37-1.37c-.4-.4-.92-.59-1.43-.59-.52 0-1.04.2-1.43.59L10.3 9.45l-7.72 7.72c-.78.78-.78 2.05 0 2.83L4 21.41c.39.39.9.59 1.41.59.51 0 1.02-.2 1.41-.59l7.78-7.78 2.81-2.81c.8-.78.8-2.07 0-2.86zM5.41 20L4 18.59l7.72-7.72 1.47 1.35L5.41 20z\"/>\n",
              "  </svg>\n",
              "      </button>\n",
              "\n",
              "\n",
              "\n",
              "    <div id=\"df-cd389e4a-578b-4033-b02e-8a59107f6ff5\">\n",
              "      <button class=\"colab-df-quickchart\" onclick=\"quickchart('df-cd389e4a-578b-4033-b02e-8a59107f6ff5')\"\n",
              "              title=\"Suggest charts.\"\n",
              "              style=\"display:none;\">\n",
              "\n",
              "<svg xmlns=\"http://www.w3.org/2000/svg\" height=\"24px\"viewBox=\"0 0 24 24\"\n",
              "     width=\"24px\">\n",
              "    <g>\n",
              "        <path d=\"M19 3H5c-1.1 0-2 .9-2 2v14c0 1.1.9 2 2 2h14c1.1 0 2-.9 2-2V5c0-1.1-.9-2-2-2zM9 17H7v-7h2v7zm4 0h-2V7h2v10zm4 0h-2v-4h2v4z\"/>\n",
              "    </g>\n",
              "</svg>\n",
              "      </button>\n",
              "    </div>\n",
              "\n",
              "<style>\n",
              "  .colab-df-quickchart {\n",
              "    background-color: #E8F0FE;\n",
              "    border: none;\n",
              "    border-radius: 50%;\n",
              "    cursor: pointer;\n",
              "    display: none;\n",
              "    fill: #1967D2;\n",
              "    height: 32px;\n",
              "    padding: 0 0 0 0;\n",
              "    width: 32px;\n",
              "  }\n",
              "\n",
              "  .colab-df-quickchart:hover {\n",
              "    background-color: #E2EBFA;\n",
              "    box-shadow: 0px 1px 2px rgba(60, 64, 67, 0.3), 0px 1px 3px 1px rgba(60, 64, 67, 0.15);\n",
              "    fill: #174EA6;\n",
              "  }\n",
              "\n",
              "  [theme=dark] .colab-df-quickchart {\n",
              "    background-color: #3B4455;\n",
              "    fill: #D2E3FC;\n",
              "  }\n",
              "\n",
              "  [theme=dark] .colab-df-quickchart:hover {\n",
              "    background-color: #434B5C;\n",
              "    box-shadow: 0px 1px 3px 1px rgba(0, 0, 0, 0.15);\n",
              "    filter: drop-shadow(0px 1px 2px rgba(0, 0, 0, 0.3));\n",
              "    fill: #FFFFFF;\n",
              "  }\n",
              "</style>\n",
              "\n",
              "    <script>\n",
              "      async function quickchart(key) {\n",
              "        const containerElement = document.querySelector('#' + key);\n",
              "        const charts = await google.colab.kernel.invokeFunction(\n",
              "            'suggestCharts', [key], {});\n",
              "      }\n",
              "    </script>\n",
              "\n",
              "      <script>\n",
              "\n",
              "function displayQuickchartButton(domScope) {\n",
              "  let quickchartButtonEl =\n",
              "    domScope.querySelector('#df-cd389e4a-578b-4033-b02e-8a59107f6ff5 button.colab-df-quickchart');\n",
              "  quickchartButtonEl.style.display =\n",
              "    google.colab.kernel.accessAllowed ? 'block' : 'none';\n",
              "}\n",
              "\n",
              "        displayQuickchartButton(document);\n",
              "      </script>\n",
              "      <style>\n",
              "    .colab-df-container {\n",
              "      display:flex;\n",
              "      flex-wrap:wrap;\n",
              "      gap: 12px;\n",
              "    }\n",
              "\n",
              "    .colab-df-convert {\n",
              "      background-color: #E8F0FE;\n",
              "      border: none;\n",
              "      border-radius: 50%;\n",
              "      cursor: pointer;\n",
              "      display: none;\n",
              "      fill: #1967D2;\n",
              "      height: 32px;\n",
              "      padding: 0 0 0 0;\n",
              "      width: 32px;\n",
              "    }\n",
              "\n",
              "    .colab-df-convert:hover {\n",
              "      background-color: #E2EBFA;\n",
              "      box-shadow: 0px 1px 2px rgba(60, 64, 67, 0.3), 0px 1px 3px 1px rgba(60, 64, 67, 0.15);\n",
              "      fill: #174EA6;\n",
              "    }\n",
              "\n",
              "    [theme=dark] .colab-df-convert {\n",
              "      background-color: #3B4455;\n",
              "      fill: #D2E3FC;\n",
              "    }\n",
              "\n",
              "    [theme=dark] .colab-df-convert:hover {\n",
              "      background-color: #434B5C;\n",
              "      box-shadow: 0px 1px 3px 1px rgba(0, 0, 0, 0.15);\n",
              "      filter: drop-shadow(0px 1px 2px rgba(0, 0, 0, 0.3));\n",
              "      fill: #FFFFFF;\n",
              "    }\n",
              "  </style>\n",
              "\n",
              "      <script>\n",
              "        const buttonEl =\n",
              "          document.querySelector('#df-a612d515-f71e-4a4c-af76-54a4e6dae1f2 button.colab-df-convert');\n",
              "        buttonEl.style.display =\n",
              "          google.colab.kernel.accessAllowed ? 'block' : 'none';\n",
              "\n",
              "        async function convertToInteractive(key) {\n",
              "          const element = document.querySelector('#df-a612d515-f71e-4a4c-af76-54a4e6dae1f2');\n",
              "          const dataTable =\n",
              "            await google.colab.kernel.invokeFunction('convertToInteractive',\n",
              "                                                     [key], {});\n",
              "          if (!dataTable) return;\n",
              "\n",
              "          const docLinkHtml = 'Like what you see? Visit the ' +\n",
              "            '<a target=\"_blank\" href=https://colab.research.google.com/notebooks/data_table.ipynb>data table notebook</a>'\n",
              "            + ' to learn more about interactive tables.';\n",
              "          element.innerHTML = '';\n",
              "          dataTable['output_type'] = 'display_data';\n",
              "          await google.colab.output.renderOutput(dataTable, element);\n",
              "          const docLink = document.createElement('div');\n",
              "          docLink.innerHTML = docLinkHtml;\n",
              "          element.appendChild(docLink);\n",
              "        }\n",
              "      </script>\n",
              "    </div>\n",
              "  </div>\n"
            ]
          },
          "metadata": {},
          "execution_count": 14
        }
      ]
    },
    {
      "cell_type": "code",
      "source": [
        "from sklearn.feature_extraction.text import CountVectorizer\n",
        "from nltk.tokenize import RegexpTokenizer\n",
        "\n",
        "#tokenizer to remove unwanted elements from out data like symbols and numbers\n",
        "token = RegexpTokenizer(r'[a-zA-Z0-9]+')\n",
        "cv = CountVectorizer(lowercase=True,stop_words='english',ngram_range = (1,1),tokenizer = token.tokenize)\n",
        "\n",
        "text_counts = cv.fit_transform(df['text'])\n",
        "print('Bag of Word Matrix size: ', text_counts.shape)\n",
        "print('Data in the first row:\\n', text_counts[1,:])"
      ],
      "metadata": {
        "colab": {
          "base_uri": "https://localhost:8080/"
        },
        "id": "XS-md9btDsCF",
        "outputId": "1e50892b-7dab-4e4b-ebc3-bafb466e7a81"
      },
      "execution_count": null,
      "outputs": [
        {
          "output_type": "stream",
          "name": "stderr",
          "text": [
            "/usr/local/lib/python3.10/dist-packages/sklearn/feature_extraction/text.py:528: UserWarning: The parameter 'token_pattern' will not be used since 'tokenizer' is not None'\n",
            "  warnings.warn(\n"
          ]
        },
        {
          "output_type": "stream",
          "name": "stdout",
          "text": [
            "Bag of Word Matrix size:  (14604, 14796)\n",
            "Data in the first row:\n",
            "   (0, 14047)\t1\n",
            "  (0, 10274)\t1\n",
            "  (0, 13968)\t1\n",
            "  (0, 1959)\t1\n",
            "  (0, 3970)\t1\n",
            "  (0, 5582)\t1\n",
            "  (0, 12738)\t1\n"
          ]
        }
      ]
    },
    {
      "cell_type": "markdown",
      "source": [
        "**Model training**"
      ],
      "metadata": {
        "id": "NZk2nPdYuHgp"
      }
    },
    {
      "cell_type": "code",
      "source": [
        "#Split dataset for training and testing\n",
        "from sklearn.model_selection import train_test_split\n",
        "\n",
        "X_train, X_test, y_train, y_test = train_test_split(\n",
        "    text_counts, df['airline_sentiment'], test_size=0.3, random_state=1)"
      ],
      "metadata": {
        "id": "pjz_AKM5EPue"
      },
      "execution_count": null,
      "outputs": []
    },
    {
      "cell_type": "markdown",
      "source": [
        "**MULTINOMIAL NAIVE BAYES**"
      ],
      "metadata": {
        "id": "UvIX_j8OuSo5"
      }
    },
    {
      "cell_type": "code",
      "source": [
        "from sklearn.naive_bayes import MultinomialNB\n",
        "from sklearn import metrics\n",
        "from sklearn.metrics import confusion_matrix\n",
        "from sklearn.metrics import classification_report\n",
        "\n",
        "\n",
        "# Model Generation Using Multinomial Naive Bayes\n",
        "clf = MultinomialNB().fit(X_train, y_train)\n",
        "predicted= clf.predict(X_test)\n",
        "cm = metrics.confusion_matrix(y_test, predicted)\n",
        "cm_df = pd.DataFrame(cm,\n",
        "                     index = ['Positive','Neutral','Negative'],\n",
        "                     columns = ['Positive','Neutral','Negative'])\n",
        "\n",
        "print(\"MultinomialNB Accuracy:\", round(metrics.accuracy_score(y_test, predicted),3))\n",
        "\n",
        "plt.figure(figsize=(5,4))\n",
        "sns.heatmap(cm_df, annot=True, fmt='d', cmap='Purples')\n",
        "plt.title('Confusion Matrix')\n",
        "plt.ylabel('Actual', fontsize = 12)\n",
        "plt.xlabel('Predicted', fontsize = 12)\n",
        "plt.show()\n",
        "\n",
        "# Create a classification report\n",
        "class_report = classification_report(y_test, predicted, target_names=['Positive', 'Neutral', 'Negative'])\n",
        "\n",
        "# Print the classification report\n",
        "print(\"Classification Report:\")\n",
        "print(class_report)"
      ],
      "metadata": {
        "colab": {
          "base_uri": "https://localhost:8080/",
          "height": 622
        },
        "id": "GUOnutAcETX8",
        "outputId": "09a78b6c-e7d1-4b7c-911f-19f82aaf1605"
      },
      "execution_count": null,
      "outputs": [
        {
          "output_type": "stream",
          "name": "stdout",
          "text": [
            "MultinomialNB Accuracy: 0.749\n"
          ]
        },
        {
          "output_type": "display_data",
          "data": {
            "text/plain": [
              "<Figure size 500x400 with 2 Axes>"
            ],
            "image/png": "[encoded data removed]"
          },
          "metadata": {}
        },
        {
          "output_type": "stream",
          "name": "stdout",
          "text": [
            "Classification Report:\n",
            "              precision    recall  f1-score   support\n",
            "\n",
            "    Positive       0.77      0.93      0.84      2741\n",
            "     Neutral       0.64      0.38      0.48       936\n",
            "    Negative       0.73      0.52      0.61       715\n",
            "\n",
            "    accuracy                           0.75      4392\n",
            "   macro avg       0.71      0.61      0.64      4392\n",
            "weighted avg       0.74      0.75      0.73      4392\n",
            "\n"
          ]
        }
      ]
    },
    {
      "cell_type": "markdown",
      "source": [
        "**Univariate selection**"
      ],
      "metadata": {
        "id": "0JT-V8iJugoS"
      }
    },
    {
      "cell_type": "code",
      "source": [
        "from sklearn.feature_selection import SelectKBest\n",
        "\n",
        "#Get the target label\n",
        "Target = df['airline_sentiment']\n",
        "#We will select the top 100 features\n",
        "test = SelectKBest(k=100)\n",
        "#Fit the function for ranking the features by score\n",
        "fit = test.fit(text_counts, Target)\n",
        "UnivariateFeatures = fit.transform(text_counts)\n",
        "print('Reduced Data Set size:',UnivariateFeatures.shape)"
      ],
      "metadata": {
        "colab": {
          "base_uri": "https://localhost:8080/"
        },
        "id": "UAXja440Thne",
        "outputId": "165ed363-24d3-48d9-9af6-e17d72d0f0e0"
      },
      "execution_count": null,
      "outputs": [
        {
          "output_type": "stream",
          "name": "stdout",
          "text": [
            "Reduced Data Set size: (14604, 100)\n"
          ]
        }
      ]
    },
    {
      "cell_type": "markdown",
      "source": [
        "**RANDOM FOREST MODEL**"
      ],
      "metadata": {
        "id": "ppl3usYqukQK"
      }
    },
    {
      "cell_type": "code",
      "source": [
        "from sklearn.ensemble import RandomForestClassifier\n",
        "from sklearn.metrics import accuracy_score\n",
        "\n",
        "\n",
        "# Create and fit the random forest model\n",
        "random_forest_model = RandomForestClassifier(random_state=1)\n",
        "random_forest_model.fit(X_train, y_train)\n",
        "\n",
        "# Make predictions on the test set\n",
        "y_pred = random_forest_model.predict(X_test)\n",
        "\n",
        "# Evaluate the model's performance\n",
        "accuracy = accuracy_score(y_test, y_pred)\n",
        "conf_matrix = confusion_matrix(y_test, y_pred)\n",
        "classification_rep = classification_report(y_test, y_pred)\n",
        "\n",
        "cm_df2 = pd.DataFrame(conf_matrix,\n",
        "                     index = ['Negative','Neutral','Positive'],\n",
        "                     columns = ['Negative','Neutral','Positive'])\n",
        "\n",
        "print(\"RF Accuracy:\", round(metrics.accuracy_score(y_test, predicted),3))\n",
        "\n",
        "plt.figure(figsize=(5,4))\n",
        "sns.heatmap(cm_df2, annot=True, fmt='d', cmap='Purples')\n",
        "plt.title('Confusion Matrix')\n",
        "plt.ylabel('Actual', fontsize = 12)\n",
        "plt.xlabel('Predicted', fontsize = 12)\n",
        "plt.show()\n",
        "\n",
        "print(\"Classification Report:\\n\", classification_rep)"
      ],
      "metadata": {
        "colab": {
          "base_uri": "https://localhost:8080/",
          "height": 245
        },
        "id": "8JydtCTHKKBW",
        "outputId": "f7d1cb5f-bcf3-4371-edff-cf9d661cf68e"
      },
      "execution_count": null,
      "outputs": [
        {
          "output_type": "error",
          "ename": "NameError",
          "evalue": "ignored",
          "traceback": [
            "\u001b[0;31m---------------------------------------------------------------------------\u001b[0m",
            "\u001b[0;31mNameError\u001b[0m                                 Traceback (most recent call last)",
            "\u001b[0;32m<ipython-input-19-7b03c6bfb340>\u001b[0m in \u001b[0;36m<cell line: 14>\u001b[0;34m()\u001b[0m\n\u001b[1;32m     12\u001b[0m \u001b[0;31m# Evaluate the model's performance\u001b[0m\u001b[0;34m\u001b[0m\u001b[0;34m\u001b[0m\u001b[0m\n\u001b[1;32m     13\u001b[0m \u001b[0maccuracy\u001b[0m \u001b[0;34m=\u001b[0m \u001b[0maccuracy_score\u001b[0m\u001b[0;34m(\u001b[0m\u001b[0my_test\u001b[0m\u001b[0;34m,\u001b[0m \u001b[0my_pred\u001b[0m\u001b[0;34m)\u001b[0m\u001b[0;34m\u001b[0m\u001b[0;34m\u001b[0m\u001b[0m\n\u001b[0;32m---> 14\u001b[0;31m \u001b[0mconf_matrix\u001b[0m \u001b[0;34m=\u001b[0m \u001b[0mconfusion_matrix\u001b[0m\u001b[0;34m(\u001b[0m\u001b[0my_test\u001b[0m\u001b[0;34m,\u001b[0m \u001b[0my_pred\u001b[0m\u001b[0;34m)\u001b[0m\u001b[0;34m\u001b[0m\u001b[0;34m\u001b[0m\u001b[0m\n\u001b[0m\u001b[1;32m     15\u001b[0m \u001b[0mclassification_rep\u001b[0m \u001b[0;34m=\u001b[0m \u001b[0mclassification_report\u001b[0m\u001b[0;34m(\u001b[0m\u001b[0my_test\u001b[0m\u001b[0;34m,\u001b[0m \u001b[0my_pred\u001b[0m\u001b[0;34m)\u001b[0m\u001b[0;34m\u001b[0m\u001b[0;34m\u001b[0m\u001b[0m\n\u001b[1;32m     16\u001b[0m \u001b[0;34m\u001b[0m\u001b[0m\n",
            "\u001b[0;31mNameError\u001b[0m: name 'confusion_matrix' is not defined"
          ]
        }
      ]
    },
    {
      "cell_type": "markdown",
      "source": [
        "**Lexicon Based Approach**\n",
        "\n"
      ],
      "metadata": {
        "id": "pJ0jjGv4cImQ"
      }
    },
    {
      "cell_type": "markdown",
      "source": [
        "Based on the airline popularity chart, the top three airlines are United, US Airways, and American. To find out tweet sentiments for these airlines, the lexicon based approach will be used with the aid of nltk.sentiment library.\n",
        "\n",
        "The proportion of posittive, neutral, and negative tweets for **United airline** is as below:\n",
        "```\n",
        "positive    52.846076 %\n",
        "neutral     27.921859 %\n",
        "negative    19.232065 %\n",
        "```\n",
        "This means that more than 50% customer feel positive about United airline.\n",
        "\n",
        "The proportion of posittive, neutral, and negative tweets for **US Airways** is as below:\n",
        "```\n",
        "positive    47.664399\n",
        "neutral     29.841270\n",
        "negative    22.494331\n",
        "```\n",
        "47.66% customers have positive sentiment towards US Airways. Interestingly, neutral and negative sentiments are quite close (29.84% and 22.49% resepctively)\n",
        "\n",
        "The proportion of posittive, neutral, and negative tweets for **American** is as below:\n",
        "```\n",
        "positive    51.284447\n",
        "neutral     27.557216\n",
        "negative    21.158337\n",
        "```\n",
        "The positive sentiment percentage is also higher than neutral and  positive for American airline, accounting for 51.28%.\n",
        "\n",
        "It is helpful to compare all the sentiment propotion accross all three airlines. Based on the Sentiment Distribution Comparison chart, it can be seen that for Positive sentiment, United airline is the highest while US Airways is the least. However, US Airways has highest percentage when it comes to Neutral and Negative sentiments. The neutral proportion of United and American are quite close while American is the sencond highest in negative sentiment.  \n",
        "\n",
        "Thus, among these three airlines, United received more positive sentiments than ngeative sentiments from customers."
      ],
      "metadata": {
        "id": "sMEJZIzNcH5n"
      }
    },
    {
      "cell_type": "code",
      "source": [
        "united_df = df[df['airline'] == 'United']\n",
        "usairways_df = df[df['airline'] =='US Airways']\n",
        "american_df = df[df['airline'] == 'American']"
      ],
      "metadata": {
        "id": "_vL3cfwMc9Wa"
      },
      "execution_count": null,
      "outputs": []
    },
    {
      "cell_type": "code",
      "source": [
        "import nltk\n",
        "nltk.download('vader_lexicon')\n",
        "from nltk.sentiment.vader import SentimentIntensityAnalyzer"
      ],
      "metadata": {
        "colab": {
          "base_uri": "https://localhost:8080/"
        },
        "id": "mBwHLt8AcUM7",
        "outputId": "08cadf0d-3cfc-4069-a4dc-6e1d50084232"
      },
      "execution_count": null,
      "outputs": [
        {
          "output_type": "stream",
          "name": "stderr",
          "text": [
            "[nltk_data] Downloading package vader_lexicon to /root/nltk_data...\n"
          ]
        }
      ]
    },
    {
      "cell_type": "code",
      "source": [
        "#Initialize an instance of SentimentIntensityAnalyzer\n",
        "sid = SentimentIntensityAnalyzer()\n",
        "\n",
        "united_df['score'] = united_df['text'].apply(lambda txt: sid.polarity_scores(txt))\n"
      ],
      "metadata": {
        "id": "Bq8Xem4ncZde",
        "colab": {
          "base_uri": "https://localhost:8080/"
        },
        "outputId": "92cc8733-3710-4dd4-92a6-2a5a83837e9b"
      },
      "execution_count": null,
      "outputs": [
        {
          "output_type": "stream",
          "name": "stderr",
          "text": [
            "<ipython-input-83-5bd5f55f97ab>:4: SettingWithCopyWarning: \n",
            "A value is trying to be set on a copy of a slice from a DataFrame.\n",
            "Try using .loc[row_indexer,col_indexer] = value instead\n",
            "\n",
            "See the caveats in the documentation: https://pandas.pydata.org/pandas-docs/stable/user_guide/indexing.html#returning-a-view-versus-a-copy\n",
            "  united_df['score'] = united_df['text'].apply(lambda txt: sid.polarity_scores(txt))\n"
          ]
        }
      ]
    },
    {
      "cell_type": "code",
      "source": [
        "united_df['negative'] = united_df['score'].apply(lambda txt: txt['neg'])\n",
        "united_df['neutral'] = united_df['score'].apply(lambda txt: txt['neu'])\n",
        "united_df['positive'] = united_df['score'].apply(lambda txt: txt['pos'])\n",
        "united_df['compound'] = united_df['score'].apply(lambda txt: txt['compound'])"
      ],
      "metadata": {
        "id": "ELx-YmFMlYMW",
        "colab": {
          "base_uri": "https://localhost:8080/"
        },
        "outputId": "525235e1-a735-4961-896a-14894d888425"
      },
      "execution_count": null,
      "outputs": [
        {
          "output_type": "stream",
          "name": "stderr",
          "text": [
            "<ipython-input-84-f421b8e65136>:1: SettingWithCopyWarning: \n",
            "A value is trying to be set on a copy of a slice from a DataFrame.\n",
            "Try using .loc[row_indexer,col_indexer] = value instead\n",
            "\n",
            "See the caveats in the documentation: https://pandas.pydata.org/pandas-docs/stable/user_guide/indexing.html#returning-a-view-versus-a-copy\n",
            "  united_df['negative'] = united_df['score'].apply(lambda txt: txt['neg'])\n",
            "<ipython-input-84-f421b8e65136>:2: SettingWithCopyWarning: \n",
            "A value is trying to be set on a copy of a slice from a DataFrame.\n",
            "Try using .loc[row_indexer,col_indexer] = value instead\n",
            "\n",
            "See the caveats in the documentation: https://pandas.pydata.org/pandas-docs/stable/user_guide/indexing.html#returning-a-view-versus-a-copy\n",
            "  united_df['neutral'] = united_df['score'].apply(lambda txt: txt['neu'])\n",
            "<ipython-input-84-f421b8e65136>:3: SettingWithCopyWarning: \n",
            "A value is trying to be set on a copy of a slice from a DataFrame.\n",
            "Try using .loc[row_indexer,col_indexer] = value instead\n",
            "\n",
            "See the caveats in the documentation: https://pandas.pydata.org/pandas-docs/stable/user_guide/indexing.html#returning-a-view-versus-a-copy\n",
            "  united_df['positive'] = united_df['score'].apply(lambda txt: txt['pos'])\n",
            "<ipython-input-84-f421b8e65136>:4: SettingWithCopyWarning: \n",
            "A value is trying to be set on a copy of a slice from a DataFrame.\n",
            "Try using .loc[row_indexer,col_indexer] = value instead\n",
            "\n",
            "See the caveats in the documentation: https://pandas.pydata.org/pandas-docs/stable/user_guide/indexing.html#returning-a-view-versus-a-copy\n",
            "  united_df['compound'] = united_df['score'].apply(lambda txt: txt['compound'])\n"
          ]
        }
      ]
    },
    {
      "cell_type": "code",
      "source": [
        "def polarity_score(compound):\n",
        "    if compound > 0.05:\n",
        "        return \"positive\"\n",
        "    elif compound < -0.5:\n",
        "        return \"negative\"\n",
        "    elif compound >= -0.05 and compound < 0.05:\n",
        "        return \"neutral\""
      ],
      "metadata": {
        "id": "lb87sywBlviK"
      },
      "execution_count": null,
      "outputs": []
    },
    {
      "cell_type": "code",
      "source": [
        "united_df['sentiment'] = united_df['compound'].apply(lambda val: polarity_score(val))\n",
        "\n",
        "united_df['sentiment'].value_counts(normalize = True) *100"
      ],
      "metadata": {
        "colab": {
          "base_uri": "https://localhost:8080/"
        },
        "id": "DRwxojaQmKJ7",
        "outputId": "5e2bd9f3-b738-403b-a88e-ebcff9240ba9"
      },
      "execution_count": null,
      "outputs": [
        {
          "output_type": "stream",
          "name": "stderr",
          "text": [
            "<ipython-input-86-36af005b66d5>:1: SettingWithCopyWarning: \n",
            "A value is trying to be set on a copy of a slice from a DataFrame.\n",
            "Try using .loc[row_indexer,col_indexer] = value instead\n",
            "\n",
            "See the caveats in the documentation: https://pandas.pydata.org/pandas-docs/stable/user_guide/indexing.html#returning-a-view-versus-a-copy\n",
            "  united_df['sentiment'] = united_df['compound'].apply(lambda val: polarity_score(val))\n"
          ]
        },
        {
          "output_type": "execute_result",
          "data": {
            "text/plain": [
              "positive    52.846076\n",
              "neutral     27.921859\n",
              "negative    19.232065\n",
              "Name: sentiment, dtype: float64"
            ]
          },
          "metadata": {},
          "execution_count": 86
        }
      ]
    },
    {
      "cell_type": "code",
      "source": [
        "usairways_df['score'] = usairways_df['text'].apply(lambda txt: sid.polarity_scores(txt))"
      ],
      "metadata": {
        "id": "yju2Y5VNmN_s",
        "colab": {
          "base_uri": "https://localhost:8080/"
        },
        "outputId": "3dd9efc1-2381-49f8-af96-217f98bbe6bb"
      },
      "execution_count": null,
      "outputs": [
        {
          "output_type": "stream",
          "name": "stderr",
          "text": [
            "<ipython-input-87-fb576b814d36>:1: SettingWithCopyWarning: \n",
            "A value is trying to be set on a copy of a slice from a DataFrame.\n",
            "Try using .loc[row_indexer,col_indexer] = value instead\n",
            "\n",
            "See the caveats in the documentation: https://pandas.pydata.org/pandas-docs/stable/user_guide/indexing.html#returning-a-view-versus-a-copy\n",
            "  usairways_df['score'] = usairways_df['text'].apply(lambda txt: sid.polarity_scores(txt))\n"
          ]
        }
      ]
    },
    {
      "cell_type": "code",
      "source": [
        "usairways_df['negative'] = usairways_df['score'].apply(lambda txt: txt['neg'])\n",
        "usairways_df['neutral'] = usairways_df['score'].apply(lambda txt: txt['neu'])\n",
        "usairways_df['positive'] = usairways_df['score'].apply(lambda txt: txt['pos'])\n",
        "usairways_df['compound'] = usairways_df['score'].apply(lambda txt: txt['compound'])"
      ],
      "metadata": {
        "id": "C0bk9WmSoStZ",
        "colab": {
          "base_uri": "https://localhost:8080/"
        },
        "outputId": "ff7e0a9c-bf00-4c0c-8199-e91d2ce36993"
      },
      "execution_count": null,
      "outputs": [
        {
          "output_type": "stream",
          "name": "stderr",
          "text": [
            "<ipython-input-88-6bcd740a721c>:1: SettingWithCopyWarning: \n",
            "A value is trying to be set on a copy of a slice from a DataFrame.\n",
            "Try using .loc[row_indexer,col_indexer] = value instead\n",
            "\n",
            "See the caveats in the documentation: https://pandas.pydata.org/pandas-docs/stable/user_guide/indexing.html#returning-a-view-versus-a-copy\n",
            "  usairways_df['negative'] = usairways_df['score'].apply(lambda txt: txt['neg'])\n",
            "<ipython-input-88-6bcd740a721c>:2: SettingWithCopyWarning: \n",
            "A value is trying to be set on a copy of a slice from a DataFrame.\n",
            "Try using .loc[row_indexer,col_indexer] = value instead\n",
            "\n",
            "See the caveats in the documentation: https://pandas.pydata.org/pandas-docs/stable/user_guide/indexing.html#returning-a-view-versus-a-copy\n",
            "  usairways_df['neutral'] = usairways_df['score'].apply(lambda txt: txt['neu'])\n",
            "<ipython-input-88-6bcd740a721c>:3: SettingWithCopyWarning: \n",
            "A value is trying to be set on a copy of a slice from a DataFrame.\n",
            "Try using .loc[row_indexer,col_indexer] = value instead\n",
            "\n",
            "See the caveats in the documentation: https://pandas.pydata.org/pandas-docs/stable/user_guide/indexing.html#returning-a-view-versus-a-copy\n",
            "  usairways_df['positive'] = usairways_df['score'].apply(lambda txt: txt['pos'])\n",
            "<ipython-input-88-6bcd740a721c>:4: SettingWithCopyWarning: \n",
            "A value is trying to be set on a copy of a slice from a DataFrame.\n",
            "Try using .loc[row_indexer,col_indexer] = value instead\n",
            "\n",
            "See the caveats in the documentation: https://pandas.pydata.org/pandas-docs/stable/user_guide/indexing.html#returning-a-view-versus-a-copy\n",
            "  usairways_df['compound'] = usairways_df['score'].apply(lambda txt: txt['compound'])\n"
          ]
        }
      ]
    },
    {
      "cell_type": "code",
      "source": [
        "usairways_df['sentiment'] = usairways_df['compound'].apply(lambda val: polarity_score(val))\n",
        "\n",
        "usairways_df['sentiment'].value_counts(normalize = True) *100"
      ],
      "metadata": {
        "colab": {
          "base_uri": "https://localhost:8080/"
        },
        "id": "9KpKXXYmogfZ",
        "outputId": "8d749c6b-b653-4bfa-ad3c-f3ff52e1a398"
      },
      "execution_count": null,
      "outputs": [
        {
          "output_type": "stream",
          "name": "stderr",
          "text": [
            "<ipython-input-89-29b685ffa3f7>:1: SettingWithCopyWarning: \n",
            "A value is trying to be set on a copy of a slice from a DataFrame.\n",
            "Try using .loc[row_indexer,col_indexer] = value instead\n",
            "\n",
            "See the caveats in the documentation: https://pandas.pydata.org/pandas-docs/stable/user_guide/indexing.html#returning-a-view-versus-a-copy\n",
            "  usairways_df['sentiment'] = usairways_df['compound'].apply(lambda val: polarity_score(val))\n"
          ]
        },
        {
          "output_type": "execute_result",
          "data": {
            "text/plain": [
              "positive    47.664399\n",
              "neutral     29.841270\n",
              "negative    22.494331\n",
              "Name: sentiment, dtype: float64"
            ]
          },
          "metadata": {},
          "execution_count": 89
        }
      ]
    },
    {
      "cell_type": "code",
      "source": [
        "american_df['score'] = american_df['text'].apply(lambda txt: sid.polarity_scores(txt))"
      ],
      "metadata": {
        "id": "lGZctbeKop53",
        "colab": {
          "base_uri": "https://localhost:8080/"
        },
        "outputId": "1b10817d-9e69-4813-a77c-691c42ec6c20"
      },
      "execution_count": null,
      "outputs": [
        {
          "output_type": "stream",
          "name": "stderr",
          "text": [
            "<ipython-input-90-76a65ec17237>:1: SettingWithCopyWarning: \n",
            "A value is trying to be set on a copy of a slice from a DataFrame.\n",
            "Try using .loc[row_indexer,col_indexer] = value instead\n",
            "\n",
            "See the caveats in the documentation: https://pandas.pydata.org/pandas-docs/stable/user_guide/indexing.html#returning-a-view-versus-a-copy\n",
            "  american_df['score'] = american_df['text'].apply(lambda txt: sid.polarity_scores(txt))\n"
          ]
        }
      ]
    },
    {
      "cell_type": "code",
      "source": [
        "american_df['negative'] = american_df['score'].apply(lambda txt: txt['neg'])\n",
        "american_df['neutral'] = american_df['score'].apply(lambda txt: txt['neu'])\n",
        "american_df['positive'] = american_df['score'].apply(lambda txt: txt['pos'])\n",
        "american_df['compound'] = american_df['score'].apply(lambda txt: txt['compound'])"
      ],
      "metadata": {
        "id": "Jvh41Iscow-c",
        "colab": {
          "base_uri": "https://localhost:8080/"
        },
        "outputId": "781fc94b-415e-4ecb-e71e-ac42f26bda4d"
      },
      "execution_count": null,
      "outputs": [
        {
          "output_type": "stream",
          "name": "stderr",
          "text": [
            "<ipython-input-91-e4e0756b5f1b>:1: SettingWithCopyWarning: \n",
            "A value is trying to be set on a copy of a slice from a DataFrame.\n",
            "Try using .loc[row_indexer,col_indexer] = value instead\n",
            "\n",
            "See the caveats in the documentation: https://pandas.pydata.org/pandas-docs/stable/user_guide/indexing.html#returning-a-view-versus-a-copy\n",
            "  american_df['negative'] = american_df['score'].apply(lambda txt: txt['neg'])\n",
            "<ipython-input-91-e4e0756b5f1b>:2: SettingWithCopyWarning: \n",
            "A value is trying to be set on a copy of a slice from a DataFrame.\n",
            "Try using .loc[row_indexer,col_indexer] = value instead\n",
            "\n",
            "See the caveats in the documentation: https://pandas.pydata.org/pandas-docs/stable/user_guide/indexing.html#returning-a-view-versus-a-copy\n",
            "  american_df['neutral'] = american_df['score'].apply(lambda txt: txt['neu'])\n",
            "<ipython-input-91-e4e0756b5f1b>:3: SettingWithCopyWarning: \n",
            "A value is trying to be set on a copy of a slice from a DataFrame.\n",
            "Try using .loc[row_indexer,col_indexer] = value instead\n",
            "\n",
            "See the caveats in the documentation: https://pandas.pydata.org/pandas-docs/stable/user_guide/indexing.html#returning-a-view-versus-a-copy\n",
            "  american_df['positive'] = american_df['score'].apply(lambda txt: txt['pos'])\n",
            "<ipython-input-91-e4e0756b5f1b>:4: SettingWithCopyWarning: \n",
            "A value is trying to be set on a copy of a slice from a DataFrame.\n",
            "Try using .loc[row_indexer,col_indexer] = value instead\n",
            "\n",
            "See the caveats in the documentation: https://pandas.pydata.org/pandas-docs/stable/user_guide/indexing.html#returning-a-view-versus-a-copy\n",
            "  american_df['compound'] = american_df['score'].apply(lambda txt: txt['compound'])\n"
          ]
        }
      ]
    },
    {
      "cell_type": "code",
      "source": [
        "american_df['sentiment'] = american_df['compound'].apply(lambda val: polarity_score(val))\n",
        "\n",
        "american_df['sentiment'].value_counts(normalize = True) *100"
      ],
      "metadata": {
        "colab": {
          "base_uri": "https://localhost:8080/"
        },
        "id": "du0CXn2Vo6yI",
        "outputId": "0b2cf256-4e18-45be-92a8-f45898b9f649"
      },
      "execution_count": null,
      "outputs": [
        {
          "output_type": "stream",
          "name": "stderr",
          "text": [
            "<ipython-input-92-f827b3f72a0e>:1: SettingWithCopyWarning: \n",
            "A value is trying to be set on a copy of a slice from a DataFrame.\n",
            "Try using .loc[row_indexer,col_indexer] = value instead\n",
            "\n",
            "See the caveats in the documentation: https://pandas.pydata.org/pandas-docs/stable/user_guide/indexing.html#returning-a-view-versus-a-copy\n",
            "  american_df['sentiment'] = american_df['compound'].apply(lambda val: polarity_score(val))\n"
          ]
        },
        {
          "output_type": "execute_result",
          "data": {
            "text/plain": [
              "positive    51.284447\n",
              "neutral     27.557216\n",
              "negative    21.158337\n",
              "Name: sentiment, dtype: float64"
            ]
          },
          "metadata": {},
          "execution_count": 92
        }
      ]
    },
    {
      "cell_type": "code",
      "source": [
        "united_sentiment_counts = united_df['sentiment'].value_counts(normalize=True) * 100\n",
        "usairways_sentiment_counts = usairways_df['sentiment'].value_counts(normalize=True) * 100\n",
        "american_sentiment_counts = american_df['sentiment'].value_counts(normalize=True) * 100\n",
        "\n",
        "\n",
        "\n",
        "labels = united_sentiment_counts.index\n",
        "x = range(len(labels))\n",
        "\n",
        "width = 0.2  # width of the bars\n",
        "plt.bar(x, united_sentiment_counts, width, label='United', color='#46185e')\n",
        "plt.bar([i + width for i in x], usairways_sentiment_counts, width, label='US Airways', color='#7123a1')\n",
        "plt.bar([i + 2 * width for i in x], american_sentiment_counts, width, label='American', color='#8c6bb1')\n",
        "\n",
        "plt.xlabel('Sentiment')\n",
        "plt.ylabel('Percentage')\n",
        "plt.title('Sentiment Distribution Comparison')\n",
        "plt.xticks([i + width for i in x], labels)\n",
        "plt.legend()\n",
        "plt.tight_layout()\n",
        "\n",
        "plt.show()"
      ],
      "metadata": {
        "colab": {
          "base_uri": "https://localhost:8080/",
          "height": 487
        },
        "id": "t8ysxzdlpFmg",
        "outputId": "f12794fc-17ee-4a11-cee3-5b9e4661cc26"
      },
      "execution_count": null,
      "outputs": [
        {
          "output_type": "display_data",
          "data": {
            "text/plain": [
              "<Figure size 640x480 with 1 Axes>"
            ],
            "image/png": "[encoded data removed]"
          },
          "metadata": {}
        }
      ]
    },
    {
      "cell_type": "markdown",
      "metadata": {
        "id": "oDGk9oyJs2Vk"
      },
      "source": [
        "<a id = \"cell_TopicModeling\"></a>\n",
        "### 4. Topic Modeling\n",
        "\n"
      ]
    },
    {
      "cell_type": "markdown",
      "source": [
        "In order to find out the common negative issues mentioned by customers, all negative tweets will be stored to a new dataframe for easy processing. There are 9159 tweets in this new dataframe.\n",
        "\n",
        "The tweets will be cleaned by removing numbers, symbols, and common stop words. Since the dataframe consists of only negative sentiment, the cleaned texts will be then extracted to use on nouns. By ussng CountVectorzier, a document-term matrix is created with the dimension of 9159 rows and 5285 columns (terms).\n",
        "\n",
        "Before perform topic modelling, names of airlines are in the top 40 common mentioned words, followed by others such as 'service', 'customer', or 'hours' to name but a few. Since these common words could affect the modelling, they will be removed under the conditions if the their frequency is higher than 20% and lower than 1%.\n",
        "\n",
        "By performing LDA with 10 number of topics, the word clouds for each topic is created for eay interpretation.\n",
        "- Topic 1: Customers are negative about people and the waiting minutes (queuing time)\n",
        "- Topic 2: Customers complain about American airline and their seats in the plane and calls to the airline\n",
        "- Topic 3: Customers mentioned negatively about the booking system and the time they spent with it. They also mentioned Jetblue airline which is not in the list of airline of this dataset. This could be interpreted that Jetblue is superior in terms of bookng system.\n",
        "- Topic 4: Customers complain about long hours to purchase tickets via American airline website\n",
        "- Topic 5: Customers feel negative customer serrvice in helping them to claim baggage, or finding seat number\n",
        "- Topic 6: Customers are mostly not favour of agents in the cheking areas\n",
        "- Topic 7: Customers do not feel positive about US Airways with their flights, reservation, or baggage\n",
        "- Topic 8: Customers do not feel positive about Southwest airline with their delay, or luggage experience\n",
        "- Topic 9: Customers mainly talk negatively about airline delay or the agents/staff at the customs gates\n",
        "- Topic 10: Customers do not feel positive about American airline with their flights if they need help via phone calls.\n",
        "\n",
        "Among 10 topics, topic 10 has the most popular while topic 3 & 4 are at the second positions.\n"
      ],
      "metadata": {
        "id": "xbGr4xihj4TT"
      }
    },
    {
      "cell_type": "code",
      "execution_count": null,
      "metadata": {
        "id": "7ctovnrAs2Vk"
      },
      "outputs": [],
      "source": [
        "negative_df = df.loc[df['airline_sentiment'] == 'negative']\n",
        "negative_df = negative_df.reset_index(drop=True)\n"
      ]
    },
    {
      "cell_type": "code",
      "source": [
        "negative_df.info()"
      ],
      "metadata": {
        "colab": {
          "base_uri": "https://localhost:8080/"
        },
        "id": "_Q0daTGivP0-",
        "outputId": "a989eea8-2285-474f-fd3a-9279bc091ccf"
      },
      "execution_count": null,
      "outputs": [
        {
          "output_type": "stream",
          "name": "stdout",
          "text": [
            "<class 'pandas.core.frame.DataFrame'>\n",
            "RangeIndex: 9159 entries, 0 to 9158\n",
            "Data columns (total 15 columns):\n",
            " #   Column                        Non-Null Count  Dtype  \n",
            "---  ------                        --------------  -----  \n",
            " 0   tweet_id                      9159 non-null   int64  \n",
            " 1   airline_sentiment             9159 non-null   object \n",
            " 2   airline_sentiment_confidence  9159 non-null   float64\n",
            " 3   negativereason                9159 non-null   object \n",
            " 4   negativereason_confidence     9159 non-null   float64\n",
            " 5   airline                       9159 non-null   object \n",
            " 6   airline_sentiment_gold        32 non-null     object \n",
            " 7   name                          9159 non-null   object \n",
            " 8   negativereason_gold           32 non-null     object \n",
            " 9   retweet_count                 9159 non-null   int64  \n",
            " 10  text                          9159 non-null   object \n",
            " 11  tweet_coord                   661 non-null    object \n",
            " 12  tweet_created                 9159 non-null   object \n",
            " 13  tweet_location                6024 non-null   object \n",
            " 14  user_timezone                 5994 non-null   object \n",
            "dtypes: float64(2), int64(2), object(11)\n",
            "memory usage: 1.0+ MB\n"
          ]
        }
      ]
    },
    {
      "cell_type": "code",
      "source": [
        "negative_df.head()"
      ],
      "metadata": {
        "colab": {
          "base_uri": "https://localhost:8080/",
          "height": 513
        },
        "id": "N1TxPM2HI8QX",
        "outputId": "5030b9d5-2afa-4db1-e03e-cb0b2842f5d0"
      },
      "execution_count": null,
      "outputs": [
        {
          "output_type": "execute_result",
          "data": {
            "text/plain": [
              "             tweet_id airline_sentiment  airline_sentiment_confidence  \\\n",
              "0  570301031407624196          negative                        1.0000   \n",
              "1  570300817074462722          negative                        1.0000   \n",
              "2  570300767074181121          negative                        1.0000   \n",
              "3  570282469121007616          negative                        0.6842   \n",
              "4  570276917301137409          negative                        1.0000   \n",
              "\n",
              "  negativereason  negativereason_confidence         airline  \\\n",
              "0     Bad Flight                     0.7033  Virgin America   \n",
              "1     Can't Tell                     1.0000  Virgin America   \n",
              "2     Can't Tell                     0.6842  Virgin America   \n",
              "3    Late Flight                     0.3684  Virgin America   \n",
              "4     Bad Flight                     1.0000  Virgin America   \n",
              "\n",
              "  airline_sentiment_gold             name negativereason_gold  retweet_count  \\\n",
              "0                    NaN         jnardino                 NaN              0   \n",
              "1                    NaN         jnardino                 NaN              0   \n",
              "2                    NaN         jnardino                 NaN              0   \n",
              "3                    NaN  smartwatermelon                 NaN              0   \n",
              "4                    NaN    heatherovieda                 NaN              0   \n",
              "\n",
              "                                                text tweet_coord  \\\n",
              "0  @VirginAmerica it's really aggressive to blast...         NaN   \n",
              "1  @VirginAmerica and it's a really big bad thing...         NaN   \n",
              "2  @VirginAmerica seriously would pay $30 a fligh...         NaN   \n",
              "3      @VirginAmerica SFO-PDX schedule is still MIA.         NaN   \n",
              "4  @VirginAmerica  I flew from NYC to SFO last we...         NaN   \n",
              "\n",
              "               tweet_created         tweet_location  \\\n",
              "0  2015-02-24 11:15:36 -0800                    NaN   \n",
              "1  2015-02-24 11:14:45 -0800                    NaN   \n",
              "2  2015-02-24 11:14:33 -0800                    NaN   \n",
              "3  2015-02-24 10:01:50 -0800          palo alto, ca   \n",
              "4  2015-02-24 09:39:46 -0800  this place called NYC   \n",
              "\n",
              "                user_timezone  text_len  word_count  \n",
              "0  Pacific Time (US & Canada)       122          17  \n",
              "1  Pacific Time (US & Canada)        55          10  \n",
              "2  Pacific Time (US & Canada)       135          23  \n",
              "3  Pacific Time (US & Canada)        45           6  \n",
              "4  Eastern Time (US & Canada)       137          27  "
            ],
            "text/html": [
              "\n",
              "\n",
              "  <div id=\"df-472d0eb0-919b-4d25-9b96-302b06cbf74c\">\n",
              "    <div class=\"colab-df-container\">\n",
              "      <div>\n",
              "<style scoped>\n",
              "    .dataframe tbody tr th:only-of-type {\n",
              "        vertical-align: middle;\n",
              "    }\n",
              "\n",
              "    .dataframe tbody tr th {\n",
              "        vertical-align: top;\n",
              "    }\n",
              "\n",
              "    .dataframe thead th {\n",
              "        text-align: right;\n",
              "    }\n",
              "</style>\n",
              "<table border=\"1\" class=\"dataframe\">\n",
              "  <thead>\n",
              "    <tr style=\"text-align: right;\">\n",
              "      <th></th>\n",
              "      <th>tweet_id</th>\n",
              "      <th>airline_sentiment</th>\n",
              "      <th>airline_sentiment_confidence</th>\n",
              "      <th>negativereason</th>\n",
              "      <th>negativereason_confidence</th>\n",
              "      <th>airline</th>\n",
              "      <th>airline_sentiment_gold</th>\n",
              "      <th>name</th>\n",
              "      <th>negativereason_gold</th>\n",
              "      <th>retweet_count</th>\n",
              "      <th>text</th>\n",
              "      <th>tweet_coord</th>\n",
              "      <th>tweet_created</th>\n",
              "      <th>tweet_location</th>\n",
              "      <th>user_timezone</th>\n",
              "      <th>text_len</th>\n",
              "      <th>word_count</th>\n",
              "    </tr>\n",
              "  </thead>\n",
              "  <tbody>\n",
              "    <tr>\n",
              "      <th>0</th>\n",
              "      <td>570301031407624196</td>\n",
              "      <td>negative</td>\n",
              "      <td>1.0000</td>\n",
              "      <td>Bad Flight</td>\n",
              "      <td>0.7033</td>\n",
              "      <td>Virgin America</td>\n",
              "      <td>NaN</td>\n",
              "      <td>jnardino</td>\n",
              "      <td>NaN</td>\n",
              "      <td>0</td>\n",
              "      <td>@VirginAmerica it's really aggressive to blast...</td>\n",
              "      <td>NaN</td>\n",
              "      <td>2015-02-24 11:15:36 -0800</td>\n",
              "      <td>NaN</td>\n",
              "      <td>Pacific Time (US &amp; Canada)</td>\n",
              "      <td>122</td>\n",
              "      <td>17</td>\n",
              "    </tr>\n",
              "    <tr>\n",
              "      <th>1</th>\n",
              "      <td>570300817074462722</td>\n",
              "      <td>negative</td>\n",
              "      <td>1.0000</td>\n",
              "      <td>Can't Tell</td>\n",
              "      <td>1.0000</td>\n",
              "      <td>Virgin America</td>\n",
              "      <td>NaN</td>\n",
              "      <td>jnardino</td>\n",
              "      <td>NaN</td>\n",
              "      <td>0</td>\n",
              "      <td>@VirginAmerica and it's a really big bad thing...</td>\n",
              "      <td>NaN</td>\n",
              "      <td>2015-02-24 11:14:45 -0800</td>\n",
              "      <td>NaN</td>\n",
              "      <td>Pacific Time (US &amp; Canada)</td>\n",
              "      <td>55</td>\n",
              "      <td>10</td>\n",
              "    </tr>\n",
              "    <tr>\n",
              "      <th>2</th>\n",
              "      <td>570300767074181121</td>\n",
              "      <td>negative</td>\n",
              "      <td>1.0000</td>\n",
              "      <td>Can't Tell</td>\n",
              "      <td>0.6842</td>\n",
              "      <td>Virgin America</td>\n",
              "      <td>NaN</td>\n",
              "      <td>jnardino</td>\n",
              "      <td>NaN</td>\n",
              "      <td>0</td>\n",
              "      <td>@VirginAmerica seriously would pay $30 a fligh...</td>\n",
              "      <td>NaN</td>\n",
              "      <td>2015-02-24 11:14:33 -0800</td>\n",
              "      <td>NaN</td>\n",
              "      <td>Pacific Time (US &amp; Canada)</td>\n",
              "      <td>135</td>\n",
              "      <td>23</td>\n",
              "    </tr>\n",
              "    <tr>\n",
              "      <th>3</th>\n",
              "      <td>570282469121007616</td>\n",
              "      <td>negative</td>\n",
              "      <td>0.6842</td>\n",
              "      <td>Late Flight</td>\n",
              "      <td>0.3684</td>\n",
              "      <td>Virgin America</td>\n",
              "      <td>NaN</td>\n",
              "      <td>smartwatermelon</td>\n",
              "      <td>NaN</td>\n",
              "      <td>0</td>\n",
              "      <td>@VirginAmerica SFO-PDX schedule is still MIA.</td>\n",
              "      <td>NaN</td>\n",
              "      <td>2015-02-24 10:01:50 -0800</td>\n",
              "      <td>palo alto, ca</td>\n",
              "      <td>Pacific Time (US &amp; Canada)</td>\n",
              "      <td>45</td>\n",
              "      <td>6</td>\n",
              "    </tr>\n",
              "    <tr>\n",
              "      <th>4</th>\n",
              "      <td>570276917301137409</td>\n",
              "      <td>negative</td>\n",
              "      <td>1.0000</td>\n",
              "      <td>Bad Flight</td>\n",
              "      <td>1.0000</td>\n",
              "      <td>Virgin America</td>\n",
              "      <td>NaN</td>\n",
              "      <td>heatherovieda</td>\n",
              "      <td>NaN</td>\n",
              "      <td>0</td>\n",
              "      <td>@VirginAmerica  I flew from NYC to SFO last we...</td>\n",
              "      <td>NaN</td>\n",
              "      <td>2015-02-24 09:39:46 -0800</td>\n",
              "      <td>this place called NYC</td>\n",
              "      <td>Eastern Time (US &amp; Canada)</td>\n",
              "      <td>137</td>\n",
              "      <td>27</td>\n",
              "    </tr>\n",
              "  </tbody>\n",
              "</table>\n",
              "</div>\n",
              "      <button class=\"colab-df-convert\" onclick=\"convertToInteractive('df-472d0eb0-919b-4d25-9b96-302b06cbf74c')\"\n",
              "              title=\"Convert this dataframe to an interactive table.\"\n",
              "              style=\"display:none;\">\n",
              "\n",
              "  <svg xmlns=\"http://www.w3.org/2000/svg\" height=\"24px\"viewBox=\"0 0 24 24\"\n",
              "       width=\"24px\">\n",
              "    <path d=\"M0 0h24v24H0V0z\" fill=\"none\"/>\n",
              "    <path d=\"M18.56 5.44l.94 2.06.94-2.06 2.06-.94-2.06-.94-.94-2.06-.94 2.06-2.06.94zm-11 1L8.5 8.5l.94-2.06 2.06-.94-2.06-.94L8.5 2.5l-.94 2.06-2.06.94zm10 10l.94 2.06.94-2.06 2.06-.94-2.06-.94-.94-2.06-.94 2.06-2.06.94z\"/><path d=\"M17.41 7.96l-1.37-1.37c-.4-.4-.92-.59-1.43-.59-.52 0-1.04.2-1.43.59L10.3 9.45l-7.72 7.72c-.78.78-.78 2.05 0 2.83L4 21.41c.39.39.9.59 1.41.59.51 0 1.02-.2 1.41-.59l7.78-7.78 2.81-2.81c.8-.78.8-2.07 0-2.86zM5.41 20L4 18.59l7.72-7.72 1.47 1.35L5.41 20z\"/>\n",
              "  </svg>\n",
              "      </button>\n",
              "\n",
              "\n",
              "\n",
              "    <div id=\"df-25a8da58-d3af-4c19-bd86-c9d8f3231871\">\n",
              "      <button class=\"colab-df-quickchart\" onclick=\"quickchart('df-25a8da58-d3af-4c19-bd86-c9d8f3231871')\"\n",
              "              title=\"Suggest charts.\"\n",
              "              style=\"display:none;\">\n",
              "\n",
              "<svg xmlns=\"http://www.w3.org/2000/svg\" height=\"24px\"viewBox=\"0 0 24 24\"\n",
              "     width=\"24px\">\n",
              "    <g>\n",
              "        <path d=\"M19 3H5c-1.1 0-2 .9-2 2v14c0 1.1.9 2 2 2h14c1.1 0 2-.9 2-2V5c0-1.1-.9-2-2-2zM9 17H7v-7h2v7zm4 0h-2V7h2v10zm4 0h-2v-4h2v4z\"/>\n",
              "    </g>\n",
              "</svg>\n",
              "      </button>\n",
              "    </div>\n",
              "\n",
              "<style>\n",
              "  .colab-df-quickchart {\n",
              "    background-color: #E8F0FE;\n",
              "    border: none;\n",
              "    border-radius: 50%;\n",
              "    cursor: pointer;\n",
              "    display: none;\n",
              "    fill: #1967D2;\n",
              "    height: 32px;\n",
              "    padding: 0 0 0 0;\n",
              "    width: 32px;\n",
              "  }\n",
              "\n",
              "  .colab-df-quickchart:hover {\n",
              "    background-color: #E2EBFA;\n",
              "    box-shadow: 0px 1px 2px rgba(60, 64, 67, 0.3), 0px 1px 3px 1px rgba(60, 64, 67, 0.15);\n",
              "    fill: #174EA6;\n",
              "  }\n",
              "\n",
              "  [theme=dark] .colab-df-quickchart {\n",
              "    background-color: #3B4455;\n",
              "    fill: #D2E3FC;\n",
              "  }\n",
              "\n",
              "  [theme=dark] .colab-df-quickchart:hover {\n",
              "    background-color: #434B5C;\n",
              "    box-shadow: 0px 1px 3px 1px rgba(0, 0, 0, 0.15);\n",
              "    filter: drop-shadow(0px 1px 2px rgba(0, 0, 0, 0.3));\n",
              "    fill: #FFFFFF;\n",
              "  }\n",
              "</style>\n",
              "\n",
              "    <script>\n",
              "      async function quickchart(key) {\n",
              "        const containerElement = document.querySelector('#' + key);\n",
              "        const charts = await google.colab.kernel.invokeFunction(\n",
              "            'suggestCharts', [key], {});\n",
              "      }\n",
              "    </script>\n",
              "\n",
              "      <script>\n",
              "\n",
              "function displayQuickchartButton(domScope) {\n",
              "  let quickchartButtonEl =\n",
              "    domScope.querySelector('#df-25a8da58-d3af-4c19-bd86-c9d8f3231871 button.colab-df-quickchart');\n",
              "  quickchartButtonEl.style.display =\n",
              "    google.colab.kernel.accessAllowed ? 'block' : 'none';\n",
              "}\n",
              "\n",
              "        displayQuickchartButton(document);\n",
              "      </script>\n",
              "      <style>\n",
              "    .colab-df-container {\n",
              "      display:flex;\n",
              "      flex-wrap:wrap;\n",
              "      gap: 12px;\n",
              "    }\n",
              "\n",
              "    .colab-df-convert {\n",
              "      background-color: #E8F0FE;\n",
              "      border: none;\n",
              "      border-radius: 50%;\n",
              "      cursor: pointer;\n",
              "      display: none;\n",
              "      fill: #1967D2;\n",
              "      height: 32px;\n",
              "      padding: 0 0 0 0;\n",
              "      width: 32px;\n",
              "    }\n",
              "\n",
              "    .colab-df-convert:hover {\n",
              "      background-color: #E2EBFA;\n",
              "      box-shadow: 0px 1px 2px rgba(60, 64, 67, 0.3), 0px 1px 3px 1px rgba(60, 64, 67, 0.15);\n",
              "      fill: #174EA6;\n",
              "    }\n",
              "\n",
              "    [theme=dark] .colab-df-convert {\n",
              "      background-color: #3B4455;\n",
              "      fill: #D2E3FC;\n",
              "    }\n",
              "\n",
              "    [theme=dark] .colab-df-convert:hover {\n",
              "      background-color: #434B5C;\n",
              "      box-shadow: 0px 1px 3px 1px rgba(0, 0, 0, 0.15);\n",
              "      filter: drop-shadow(0px 1px 2px rgba(0, 0, 0, 0.3));\n",
              "      fill: #FFFFFF;\n",
              "    }\n",
              "  </style>\n",
              "\n",
              "      <script>\n",
              "        const buttonEl =\n",
              "          document.querySelector('#df-472d0eb0-919b-4d25-9b96-302b06cbf74c button.colab-df-convert');\n",
              "        buttonEl.style.display =\n",
              "          google.colab.kernel.accessAllowed ? 'block' : 'none';\n",
              "\n",
              "        async function convertToInteractive(key) {\n",
              "          const element = document.querySelector('#df-472d0eb0-919b-4d25-9b96-302b06cbf74c');\n",
              "          const dataTable =\n",
              "            await google.colab.kernel.invokeFunction('convertToInteractive',\n",
              "                                                     [key], {});\n",
              "          if (!dataTable) return;\n",
              "\n",
              "          const docLinkHtml = 'Like what you see? Visit the ' +\n",
              "            '<a target=\"_blank\" href=https://colab.research.google.com/notebooks/data_table.ipynb>data table notebook</a>'\n",
              "            + ' to learn more about interactive tables.';\n",
              "          element.innerHTML = '';\n",
              "          dataTable['output_type'] = 'display_data';\n",
              "          await google.colab.output.renderOutput(dataTable, element);\n",
              "          const docLink = document.createElement('div');\n",
              "          docLink.innerHTML = docLinkHtml;\n",
              "          element.appendChild(docLink);\n",
              "        }\n",
              "      </script>\n",
              "    </div>\n",
              "  </div>\n"
            ]
          },
          "metadata": {},
          "execution_count": 95
        }
      ]
    },
    {
      "cell_type": "code",
      "source": [
        "from nltk.stem import PorterStemmer #Stemming Package\n",
        "import re  #Regular expression operation package\n",
        "\n",
        "porter = PorterStemmer()\n",
        "\n",
        "documents = negative_df['text']\n",
        "Cleaned_doc = []\n",
        "for r in range(len(documents)):\n",
        "    review = documents[r]\n",
        "    try:\n",
        "        # removing everything except alphabets\n",
        "        review = re.sub('[^A-Za-z]', ' ', review)\n",
        "        # make all text lowercase\n",
        "        review = review.lower()\n",
        "        # apply tokenization\n",
        "        Tokens = review.split()\n",
        "        # removing short words\n",
        "        Filtered_token = [w for w in Tokens if len(w)>3]\n",
        "        review = ' '.join(Filtered_token)\n",
        "    except:\n",
        "        continue\n",
        "    #Save cleaned text\n",
        "    Cleaned_doc.append(review)\n",
        "for i in range(5):\n",
        "    print('-[Review Text]:', Cleaned_doc[i])"
      ],
      "metadata": {
        "colab": {
          "base_uri": "https://localhost:8080/"
        },
        "id": "MlM-kj7VHkHS",
        "outputId": "743e51cf-a221-4f73-8640-c4879d451c06"
      },
      "execution_count": null,
      "outputs": [
        {
          "output_type": "stream",
          "name": "stdout",
          "text": [
            "-[Review Text]: virginamerica really aggressive blast obnoxious entertainment your guests faces they have little recourse\n",
            "-[Review Text]: virginamerica really thing about\n",
            "-[Review Text]: virginamerica seriously would flight seats that didn have this playing really only thing about flying\n",
            "-[Review Text]: virginamerica schedule still\n",
            "-[Review Text]: virginamerica flew from last week couldn fully seat large gentleman either side help\n"
          ]
        }
      ]
    },
    {
      "cell_type": "code",
      "source": [
        "from nltk.corpus import stopwords\n",
        "import nltk\n",
        "nltk.download('stopwords')\n",
        "\n",
        "stop_words = stopwords.words('english')\n",
        "\n",
        "# Remove Stop Words\n",
        "for r in range(len(Cleaned_doc)):\n",
        "    each_item = []\n",
        "    for t in Cleaned_doc[r].split():\n",
        "        if t not in stop_words:\n",
        "             each_item.append(t)\n",
        "    Cleaned_doc[r] = ' '.join(each_item)\n",
        "for i in range(5):\n",
        "    print('-[Cleaned Text]: ', Cleaned_doc[r])"
      ],
      "metadata": {
        "colab": {
          "base_uri": "https://localhost:8080/"
        },
        "id": "KbLD9GjwJ8bS",
        "outputId": "62905032-b6a2-4e9e-86df-357ba0f67d13"
      },
      "execution_count": null,
      "outputs": [
        {
          "output_type": "stream",
          "name": "stderr",
          "text": [
            "[nltk_data] Downloading package stopwords to /root/nltk_data...\n",
            "[nltk_data]   Package stopwords is already up-to-date!\n"
          ]
        },
        {
          "output_type": "stream",
          "name": "stdout",
          "text": [
            "-[Cleaned Text]:  americanair money change flight answer phones suggestions make commitment\n",
            "-[Cleaned Text]:  americanair money change flight answer phones suggestions make commitment\n",
            "-[Cleaned Text]:  americanair money change flight answer phones suggestions make commitment\n",
            "-[Cleaned Text]:  americanair money change flight answer phones suggestions make commitment\n",
            "-[Cleaned Text]:  americanair money change flight answer phones suggestions make commitment\n"
          ]
        }
      ]
    },
    {
      "cell_type": "code",
      "source": [
        "from nltk.corpus import stopwords\n",
        "import nltk\n",
        "nltk.download('stopwords')\n",
        "nltk.download('averaged_perceptron_tagger')\n",
        "nltk.download('punkt')\n",
        "\n",
        "from nltk import pos_tag\n",
        "\n",
        "stop_words = stopwords.words('english')\n",
        "\n",
        "# Remove Stop Words and extract nouns using Part-of-Speech tagging\n",
        "for r in range(len(Cleaned_doc)):\n",
        "    each_item = []\n",
        "    for t in Cleaned_doc[r].split():\n",
        "        if t not in stop_words:\n",
        "            each_item.append(t)\n",
        "\n",
        "    # Perform Part-of-Speech tagging on cleaned text\n",
        "    pos_tagged = pos_tag(nltk.word_tokenize(' '.join(each_item)))\n",
        "\n",
        "    # Extract only nouns\n",
        "    nouns = [term for term, pos in pos_tagged if pos.startswith('NN')]\n",
        "\n",
        "    # Store the extracted nouns back in Cleaned_doc\n",
        "    Cleaned_doc[r] = ' '.join(nouns)\n",
        "for i in range(5):\n",
        "    print('-[Cleaned Text with Extracted Nouns]:', Cleaned_doc[r])"
      ],
      "metadata": {
        "colab": {
          "base_uri": "https://localhost:8080/"
        },
        "id": "fYt6h7_J89Sc",
        "outputId": "1dbe2fad-3531-47a8-90d6-ea84938b3b3d"
      },
      "execution_count": null,
      "outputs": [
        {
          "output_type": "stream",
          "name": "stderr",
          "text": [
            "[nltk_data] Downloading package stopwords to /root/nltk_data...\n",
            "[nltk_data]   Package stopwords is already up-to-date!\n",
            "[nltk_data] Downloading package averaged_perceptron_tagger to\n",
            "[nltk_data]     /root/nltk_data...\n",
            "[nltk_data]   Package averaged_perceptron_tagger is already up-to-\n",
            "[nltk_data]       date!\n",
            "[nltk_data] Downloading package punkt to /root/nltk_data...\n",
            "[nltk_data]   Package punkt is already up-to-date!\n"
          ]
        },
        {
          "output_type": "stream",
          "name": "stdout",
          "text": [
            "-[Cleaned Text with Extracted Nouns]: money change flight answer phones suggestions commitment\n",
            "-[Cleaned Text with Extracted Nouns]: money change flight answer phones suggestions commitment\n",
            "-[Cleaned Text with Extracted Nouns]: money change flight answer phones suggestions commitment\n",
            "-[Cleaned Text with Extracted Nouns]: money change flight answer phones suggestions commitment\n",
            "-[Cleaned Text with Extracted Nouns]: money change flight answer phones suggestions commitment\n"
          ]
        }
      ]
    },
    {
      "cell_type": "code",
      "source": [
        "from sklearn.feature_extraction.text import CountVectorizer\n",
        "\n",
        "count_vectorizer = CountVectorizer()# Fit and transform the processed titles\n",
        "\n",
        "count_data = count_vectorizer.fit_transform(Cleaned_doc)\n",
        "count_data"
      ],
      "metadata": {
        "colab": {
          "base_uri": "https://localhost:8080/"
        },
        "id": "9VZebqnfZhB4",
        "outputId": "731ddaa7-d6d4-4dd9-ba49-024f6fe654ee"
      },
      "execution_count": null,
      "outputs": [
        {
          "output_type": "execute_result",
          "data": {
            "text/plain": [
              "<9159x5285 sparse matrix of type '<class 'numpy.int64'>'\n",
              "\twith 42884 stored elements in Compressed Sparse Row format>"
            ]
          },
          "metadata": {},
          "execution_count": 46
        }
      ]
    },
    {
      "cell_type": "code",
      "source": [
        "import numpy as np\n",
        "import matplotlib.pyplot as plt\n",
        "terms = count_vectorizer.get_feature_names_out()\n",
        "\n",
        "# Count the popularity of words\n",
        "total_counts = np.zeros(len(terms))\n",
        "for t in count_data:\n",
        "    total_counts+=t.toarray()[0]\n",
        "\n",
        "count_dict = (zip(terms, total_counts))\n",
        "count_dict = sorted(count_dict, key=lambda x:x[1], reverse=True)[0:40] #Take the top 40 words\n",
        "\n",
        "words = [w[0] for w in count_dict]\n",
        "counts = [w[1] for w in count_dict]\n",
        "x_pos = np.arange(len(words))\n",
        "\n",
        "plt.figure(2, figsize=(11, 3))\n",
        "plt.subplot(title='40 most common words')\n",
        "plt.bar(words, counts, color = '#46185e')\n",
        "plt.xticks(x_pos, words, rotation=90 )\n",
        "plt.xlabel('words')\n",
        "plt.ylabel('counts')\n",
        "plt.show()"
      ],
      "metadata": {
        "colab": {
          "base_uri": "https://localhost:8080/",
          "height": 408
        },
        "id": "M4AUvaUTHrpy",
        "outputId": "9ae26430-a9e0-4567-a3c0-b0b39033658e"
      },
      "execution_count": null,
      "outputs": [
        {
          "output_type": "display_data",
          "data": {
            "text/plain": [
              "<Figure size 1100x300 with 1 Axes>"
            ],
            "image/png": "[encoded data removed]"
          },
          "metadata": {}
        }
      ]
    },
    {
      "cell_type": "code",
      "source": [
        "#Remove highly frequent (Greater than 20%) and infrequent words (less than 1%)\n",
        "keepIndex = [];\n",
        "for t in range(len(total_counts)):\n",
        "    if total_counts[t] < 1836 and total_counts[t] > 92:\n",
        "        keepIndex.append(t)\n",
        "\n",
        "print('Number of Terms Remained: ', len(keepIndex))\n",
        "\n",
        "#Save the remain ing term and frequency data\n",
        "ReducedTerm = [terms[t] for t in keepIndex]\n",
        "ReducedCount = count_data[:,keepIndex]\n",
        "ReducedCount"
      ],
      "metadata": {
        "colab": {
          "base_uri": "https://localhost:8080/"
        },
        "id": "336eqEFE33QL",
        "outputId": "256ad6c1-f9ff-4e87-eba6-308002c84537"
      },
      "execution_count": null,
      "outputs": [
        {
          "output_type": "stream",
          "name": "stdout",
          "text": [
            "Number of Terms Remained:  77\n"
          ]
        },
        {
          "output_type": "execute_result",
          "data": {
            "text/plain": [
              "<9159x77 sparse matrix of type '<class 'numpy.int64'>'\n",
              "\twith 20265 stored elements in Compressed Sparse Row format>"
            ]
          },
          "metadata": {},
          "execution_count": 48
        }
      ]
    },
    {
      "cell_type": "code",
      "source": [
        "from sklearn.decomposition import LatentDirichletAllocation as LDA\n",
        "\n",
        "# Tweak the two parameters below\n",
        "number_topics = 10\n",
        "\n",
        "lda = LDA(n_components=number_topics, n_jobs=-1, random_state=2023)\n",
        "lda.fit(ReducedCount)\n",
        "#Trained LDA model\n",
        "lda.components_"
      ],
      "metadata": {
        "colab": {
          "base_uri": "https://localhost:8080/"
        },
        "id": "e1T0sLm4vonp",
        "outputId": "8f830036-2930-400a-c7c0-8ed46fee1cfe"
      },
      "execution_count": null,
      "outputs": [
        {
          "output_type": "execute_result",
          "data": {
            "text/plain": [
              "array([[1.00006852e-01, 1.00005563e-01, 1.00004908e-01, 1.00003733e-01,\n",
              "        2.08099964e+02, 1.55848119e+02, 1.00006933e-01, 1.00009393e-01,\n",
              "        1.00005383e-01, 2.75799026e+01, 1.00005124e-01, 1.00004071e-01,\n",
              "        1.00009415e-01, 1.00004543e-01, 1.00007678e-01, 1.00002057e-01,\n",
              "        1.00004877e-01, 1.00005235e-01, 1.69099967e+02, 1.00005407e-01,\n",
              "        1.00002837e-01, 1.00002992e-01, 1.00003913e-01, 1.00003055e-01,\n",
              "        1.00003172e-01, 1.00006416e-01, 1.00006486e-01, 1.00008286e-01,\n",
              "        1.00008834e-01, 1.00005980e-01, 1.00003152e-01, 1.00007795e-01,\n",
              "        1.00005437e-01, 1.16387661e-01, 1.00004268e-01, 1.00004418e-01,\n",
              "        1.00005088e-01, 1.00004831e-01, 1.21832827e+02, 1.00006412e-01,\n",
              "        1.00002745e-01, 1.00004438e-01, 2.70099962e+02, 1.00003826e-01,\n",
              "        1.01113942e-01, 1.00005415e-01, 1.00008818e-01, 1.00004389e-01,\n",
              "        2.42099973e+02, 1.00006201e-01, 1.00010900e-01, 1.00003696e-01,\n",
              "        1.00009986e-01, 1.00008667e-01, 1.00001685e-01, 1.00008604e-01,\n",
              "        1.40099972e+02, 1.00001645e-01, 1.00003689e-01, 1.00005282e-01,\n",
              "        1.00011050e-01, 1.00008003e-01, 1.35099968e+02, 1.00001755e-01,\n",
              "        1.00014020e-01, 1.00006597e-01, 1.00008414e-01, 1.00006196e-01,\n",
              "        1.00002944e-01, 1.00002486e-01, 1.00001482e-01, 1.00003460e-01,\n",
              "        1.00004865e-01, 1.00002449e-01, 2.66321284e+01, 1.00005163e-01,\n",
              "        1.00010482e-01],\n",
              "       [1.00008112e-01, 1.00003284e-01, 1.00002464e-01, 1.00002304e-01,\n",
              "        1.00002699e-01, 1.85867288e+02, 1.00005546e-01, 1.00005537e-01,\n",
              "        1.00004845e-01, 1.00008750e-01, 1.00005155e-01, 2.89099957e+02,\n",
              "        1.00003125e-01, 1.00010137e-01, 1.00002753e-01, 1.00004107e-01,\n",
              "        1.00009560e-01, 1.00002624e-01, 1.00001899e-01, 1.00005451e-01,\n",
              "        1.00004369e-01, 1.00002327e-01, 1.00003874e-01, 1.00002049e-01,\n",
              "        1.38099962e+02, 1.00004441e-01, 1.00006701e-01, 1.00004862e-01,\n",
              "        1.00010063e-01, 1.00007358e-01, 1.00006808e-01, 1.00004525e-01,\n",
              "        1.00019427e-01, 1.09288958e+02, 1.00004228e-01, 1.12099968e+02,\n",
              "        1.00005662e-01, 1.00004835e-01, 1.18797033e+01, 1.00004591e-01,\n",
              "        1.00004384e-01, 1.00005981e-01, 1.00004885e-01, 1.00005132e-01,\n",
              "        1.00004351e-01, 1.00002523e-01, 2.15061789e+01, 1.31099966e+02,\n",
              "        1.00004059e-01, 9.30999553e+01, 1.00011380e-01, 4.81099966e+02,\n",
              "        2.77083271e+01, 1.00004386e-01, 1.00001673e-01, 1.00006707e-01,\n",
              "        1.00002348e-01, 1.00005142e-01, 1.51099970e+02, 1.00003936e-01,\n",
              "        2.54347542e+01, 1.00004281e-01, 1.00003265e-01, 1.00007859e-01,\n",
              "        1.00004089e-01, 1.00005497e-01, 1.00005990e-01, 1.00008537e-01,\n",
              "        1.00002955e-01, 1.00002756e-01, 1.00002500e-01, 1.00002541e-01,\n",
              "        1.00006440e-01, 1.00002986e-01, 2.74272206e+01, 1.00007545e-01,\n",
              "        1.00008596e-01],\n",
              "       [1.00003573e-01, 1.00002850e-01, 1.00006218e-01, 1.00003063e-01,\n",
              "        1.00004762e-01, 1.00056323e-01, 1.00004797e-01, 1.00007669e-01,\n",
              "        1.00005885e-01, 1.00007979e-01, 8.04151463e+01, 1.00004848e-01,\n",
              "        1.00003749e-01, 1.00296955e-01, 1.00004895e-01, 1.00002573e-01,\n",
              "        1.00005050e-01, 1.00002689e-01, 1.00002314e-01, 2.08099942e+02,\n",
              "        1.00006950e-01, 1.00005456e-01, 1.00003626e-01, 1.00005658e-01,\n",
              "        1.00005779e-01, 1.00008468e-01, 1.00004028e-01, 3.70049317e+01,\n",
              "        1.00008891e-01, 1.00004634e-01, 1.00004362e-01, 1.00005681e-01,\n",
              "        1.00004190e-01, 1.00078435e-01, 1.00007886e-01, 1.00003138e-01,\n",
              "        1.08599662e+02, 8.35099968e+02, 1.00005434e-01, 1.00003462e-01,\n",
              "        1.18099954e+02, 1.00008023e-01, 1.00004132e-01, 1.00011015e-01,\n",
              "        1.00003512e-01, 1.00007505e-01, 1.00007186e-01, 1.00004050e-01,\n",
              "        1.00002306e-01, 1.00004102e-01, 2.64827034e+00, 1.00004702e-01,\n",
              "        1.52115812e+01, 1.00009966e-01, 1.00002725e-01, 1.00010475e-01,\n",
              "        1.00003935e-01, 1.00002830e-01, 1.00003202e-01, 1.00002709e-01,\n",
              "        7.56005723e+01, 1.00003457e-01, 1.00003230e-01, 1.36622850e+02,\n",
              "        1.00013409e-01, 1.00008843e-01, 5.97099943e+02, 1.01270703e-01,\n",
              "        1.00004204e-01, 1.00004960e-01, 1.00005801e-01, 1.00009018e-01,\n",
              "        1.00003997e-01, 1.00002240e-01, 2.31468497e+01, 1.00007232e-01,\n",
              "        1.00016209e-01],\n",
              "       [1.00006715e-01, 1.00003731e-01, 1.00004328e-01, 1.00002188e-01,\n",
              "        1.00004704e-01, 2.28949426e+02, 1.00005143e-01, 1.00006412e-01,\n",
              "        1.00004081e-01, 1.32250143e+02, 1.00019734e-01, 1.00004091e-01,\n",
              "        1.00002980e-01, 1.53436490e+02, 1.00004235e-01, 1.00003523e-01,\n",
              "        1.00005833e-01, 1.00002717e-01, 1.00001931e-01, 1.00006314e-01,\n",
              "        1.00004277e-01, 1.00006317e-01, 1.00002669e-01, 1.00003075e-01,\n",
              "        1.00004763e-01, 1.00007001e-01, 1.00003402e-01, 1.00005689e-01,\n",
              "        5.94836843e+00, 1.87099939e+02, 1.00006016e-01, 1.28099945e+02,\n",
              "        1.00005238e-01, 5.45948194e+02, 3.31099954e+02, 1.00003150e-01,\n",
              "        1.00005080e-01, 1.00004398e-01, 2.15517545e+01, 1.00005260e-01,\n",
              "        1.00005020e-01, 1.20099947e+02, 1.00004274e-01, 1.00006021e-01,\n",
              "        1.00007636e-01, 1.44099952e+02, 1.00008798e-01, 1.00003214e-01,\n",
              "        1.00002792e-01, 1.00002683e-01, 1.00010134e-01, 1.00002906e-01,\n",
              "        1.00013580e-01, 1.00007393e-01, 1.00006360e-01, 1.67497738e+01,\n",
              "        1.00002194e-01, 1.00004613e-01, 1.00002912e-01, 1.00002807e-01,\n",
              "        1.00013455e-01, 1.00006843e-01, 1.00002571e-01, 1.00008238e-01,\n",
              "        5.68815546e+01, 1.40972664e+02, 1.00006960e-01, 1.00006929e-01,\n",
              "        1.00003464e-01, 1.00004765e-01, 1.00004816e-01, 1.00005141e-01,\n",
              "        1.00004984e-01, 1.00002543e-01, 1.00018580e-01, 1.50099950e+02,\n",
              "        1.00008524e-01],\n",
              "       [1.00006554e-01, 1.00008046e-01, 1.00006158e-01, 1.00007183e-01,\n",
              "        1.00003878e-01, 1.00031186e-01, 1.00008712e-01, 5.88208956e+01,\n",
              "        1.83099955e+02, 1.00047479e-01, 1.00034046e-01, 1.00005610e-01,\n",
              "        1.00010925e-01, 1.00005147e-01, 1.00002517e-01, 1.00002352e-01,\n",
              "        1.00003860e-01, 6.11099970e+02, 1.00005814e-01, 1.00009044e-01,\n",
              "        1.00003080e-01, 1.00002261e-01, 1.00001656e-01, 1.00009757e-01,\n",
              "        1.00003352e-01, 1.00006491e-01, 1.00004757e-01, 1.00006644e-01,\n",
              "        3.22765927e+01, 1.00005683e-01, 1.00002831e-01, 1.00004100e-01,\n",
              "        1.01395128e-01, 1.00004396e-01, 1.00007540e-01, 1.00004136e-01,\n",
              "        1.00004909e-01, 1.00004114e-01, 1.00015712e-01, 1.00005445e-01,\n",
              "        1.00004715e-01, 1.00006878e-01, 1.00003126e-01, 1.00004314e-01,\n",
              "        1.00002899e-01, 1.00005449e-01, 6.77236438e+01, 1.00002739e-01,\n",
              "        1.00003240e-01, 1.00008757e-01, 1.20809716e+01, 1.00002706e-01,\n",
              "        5.19018641e+01, 1.00005926e-01, 1.00006096e-01, 6.38176474e+00,\n",
              "        1.00004819e-01, 1.78099966e+02, 1.00002846e-01, 7.46099967e+02,\n",
              "        1.00012398e-01, 5.38587361e-01, 1.00006588e-01, 1.00005000e-01,\n",
              "        3.39454240e+01, 1.00008445e-01, 1.00005099e-01, 1.00006906e-01,\n",
              "        1.00005787e-01, 1.00001473e-01, 1.00003853e-01, 1.00006414e-01,\n",
              "        1.00006331e-01, 1.00003707e-01, 1.00008755e-01, 1.00003305e-01,\n",
              "        1.00008666e-01],\n",
              "       [1.00025260e-01, 1.36099957e+02, 1.00006184e-01, 9.70999691e+01,\n",
              "        1.00004702e-01, 1.45936392e+00, 1.00006612e-01, 1.00009094e-01,\n",
              "        1.00005935e-01, 1.00012789e-01, 1.00013027e-01, 1.00003779e-01,\n",
              "        1.00099955e+02, 1.00007488e-01, 1.31099964e+02, 1.29099967e+02,\n",
              "        1.00004549e-01, 1.00004524e-01, 1.00004535e-01, 1.00004524e-01,\n",
              "        1.00004921e-01, 1.00003564e-01, 1.02099971e+02, 1.00009684e-01,\n",
              "        1.00003716e-01, 2.52078830e+00, 1.00005922e-01, 1.00007046e-01,\n",
              "        4.73914256e+01, 1.00007178e-01, 1.00005657e-01, 1.00011279e-01,\n",
              "        1.00004814e-01, 1.00003847e-01, 1.00005608e-01, 1.00002516e-01,\n",
              "        1.00007042e-01, 1.00004205e-01, 9.13566530e+00, 1.00005272e-01,\n",
              "        1.00004455e-01, 1.00003645e-01, 1.00002423e-01, 1.00009589e-01,\n",
              "        1.12094582e+02, 1.00005356e-01, 1.16836192e+01, 1.00005404e-01,\n",
              "        1.00003590e-01, 1.00001922e-01, 2.74787739e-01, 1.00002186e-01,\n",
              "        1.05840035e+01, 1.00009938e-01, 1.00006551e-01, 1.00005463e-01,\n",
              "        1.00005089e-01, 1.00007305e-01, 1.00003439e-01, 1.00003660e-01,\n",
              "        1.00015313e-01, 1.00004869e-01, 1.00003608e-01, 1.00005152e-01,\n",
              "        1.00020117e-01, 2.72272759e+01, 1.00004891e-01, 1.00005797e-01,\n",
              "        2.69099958e+02, 1.00009153e-01, 1.03099917e+02, 1.00007799e-01,\n",
              "        1.00004889e-01, 1.67099978e+02, 1.00006328e-01, 1.00002179e-01,\n",
              "        1.00010834e-01],\n",
              "       [1.00004730e-01, 1.00003076e-01, 1.00005438e-01, 1.00002649e-01,\n",
              "        1.00002381e-01, 1.00002636e-01, 1.00008089e-01, 1.00004792e-01,\n",
              "        1.00004319e-01, 2.38655379e+01, 1.00008634e-01, 1.00006886e-01,\n",
              "        1.00003262e-01, 1.65336420e-01, 1.00004525e-01, 1.00005293e-01,\n",
              "        1.00006498e-01, 1.00003192e-01, 1.00004467e-01, 1.00006855e-01,\n",
              "        1.00004901e-01, 1.00005727e-01, 1.00002049e-01, 1.00007743e-01,\n",
              "        1.00007478e-01, 2.71024439e-01, 1.00004177e-01, 1.00009130e-01,\n",
              "        5.72922336e+01, 1.00008191e-01, 1.00007367e-01, 1.00005702e-01,\n",
              "        3.81741450e-01, 1.04635097e+00, 1.00003741e-01, 1.00004311e-01,\n",
              "        6.00294689e-01, 1.00000180e-01, 1.00009733e-01, 1.00006365e-01,\n",
              "        1.00012603e-01, 1.00007958e-01, 1.00006294e-01, 1.00005028e-01,\n",
              "        1.04271229e-01, 1.00005122e-01, 1.00013004e-01, 1.00003152e-01,\n",
              "        1.00003007e-01, 1.00010341e-01, 6.05448719e+01, 1.00004641e-01,\n",
              "        1.68818687e+01, 1.00007354e-01, 1.00006798e-01, 5.61477351e+01,\n",
              "        1.00002091e-01, 1.00003150e-01, 1.00004482e-01, 1.00003948e-01,\n",
              "        3.36277382e+01, 1.00000343e-01, 1.00002328e-01, 5.77103530e-01,\n",
              "        1.00005945e-01, 1.00007608e-01, 1.00005280e-01, 2.90640274e+01,\n",
              "        1.00005739e-01, 1.00004492e-01, 1.00004908e-01, 1.00005477e-01,\n",
              "        1.62309996e+03, 1.00000001e-01, 1.00014000e-01, 1.00006753e-01,\n",
              "        2.24944447e+01],\n",
              "       [1.00003156e-01, 1.00002602e-01, 1.00005083e-01, 1.00003632e-01,\n",
              "        1.00005289e-01, 1.00006380e-01, 1.00005201e-01, 1.00008032e-01,\n",
              "        1.00006757e-01, 3.67043248e+01, 1.00007256e-01, 1.00004399e-01,\n",
              "        1.00003794e-01, 1.00023445e-01, 1.00002912e-01, 1.00002456e-01,\n",
              "        1.00003515e-01, 1.00003495e-01, 1.00003127e-01, 1.00007798e-01,\n",
              "        1.00002819e-01, 1.05099960e+02, 1.00004339e-01, 1.54099950e+02,\n",
              "        1.00002579e-01, 1.00012200e-01, 1.00003126e-01, 1.00006673e-01,\n",
              "        1.00015060e-01, 1.00008513e-01, 1.82099949e+02, 1.00004737e-01,\n",
              "        1.00006385e-01, 1.00008903e-01, 1.00005606e-01, 1.00002416e-01,\n",
              "        1.00004051e-01, 1.00002171e-01, 1.00004813e-01, 2.10099954e+02,\n",
              "        1.00002021e-01, 1.00006416e-01, 1.00004451e-01, 1.00005411e-01,\n",
              "        1.00004034e-01, 1.00006826e-01, 1.00010241e-01, 1.00002492e-01,\n",
              "        1.00002342e-01, 1.00003430e-01, 1.00010762e-01, 1.00003481e-01,\n",
              "        2.45315931e+01, 1.00004695e-01, 1.00007166e-01, 1.00010591e-01,\n",
              "        1.00002674e-01, 1.00002735e-01, 1.00003269e-01, 1.00003474e-01,\n",
              "        1.00055118e-01, 1.14166137e+03, 1.00003362e-01, 1.00002498e-01,\n",
              "        1.00013210e-01, 1.00007421e-01, 1.00006587e-01, 1.20134651e+02,\n",
              "        1.00006557e-01, 1.00011047e-01, 1.00046884e-01, 1.00009180e-01,\n",
              "        1.00002869e-01, 1.00002129e-01, 8.15448890e+01, 1.00008018e-01,\n",
              "        2.03176501e+01],\n",
              "       [1.98099929e+02, 1.00008651e-01, 2.94099955e+02, 1.00001687e-01,\n",
              "        1.00004430e-01, 1.77914059e+02, 1.00002413e-01, 1.00004699e-01,\n",
              "        1.00004596e-01, 1.00009568e-01, 1.00007152e-01, 1.00004025e-01,\n",
              "        1.00002227e-01, 3.06977599e+01, 1.00003889e-01, 1.00007010e-01,\n",
              "        1.05099953e+02, 1.00003097e-01, 1.00005445e-01, 1.00004221e-01,\n",
              "        2.37099964e+02, 1.00007507e-01, 1.00001281e-01, 1.00005496e-01,\n",
              "        1.00003258e-01, 1.00008140e-01, 3.23099959e+02, 1.58195013e+02,\n",
              "        1.00007918e-01, 1.00008128e-01, 1.00005010e-01, 1.00004696e-01,\n",
              "        4.56816814e+02, 1.00007023e-01, 1.00004326e-01, 1.00004798e-01,\n",
              "        1.00004912e-01, 1.00004735e-01, 1.00008260e-01, 1.00003983e-01,\n",
              "        1.00004604e-01, 1.00006609e-01, 1.00005414e-01, 1.00004096e-01,\n",
              "        1.00004406e-01, 1.00004973e-01, 1.00004391e-01, 1.00007108e-01,\n",
              "        1.00003570e-01, 1.00003304e-01, 1.00009768e-01, 1.00008062e-01,\n",
              "        1.00019467e-01, 1.00005312e-01, 9.90999544e+01, 1.00005277e-01,\n",
              "        1.00001890e-01, 1.00003006e-01, 1.00002192e-01, 1.00004387e-01,\n",
              "        1.00009712e-01, 1.00004862e-01, 1.00004337e-01, 1.00004323e-01,\n",
              "        4.06432321e+01, 1.00008218e-01, 1.00007623e-01, 1.00007470e-01,\n",
              "        1.00004677e-01, 1.00003866e-01, 1.00005382e-01, 1.00005120e-01,\n",
              "        1.00005920e-01, 1.00002825e-01, 2.37488491e+01, 1.00006103e-01,\n",
              "        1.00009986e-01],\n",
              "       [1.00006243e-01, 1.00004930e-01, 1.00004059e-01, 1.00004478e-01,\n",
              "        1.00003437e-01, 1.05656165e+03, 1.04099947e+02, 4.13790488e+01,\n",
              "        1.00003592e-01, 1.00004783e-01, 4.57847536e+01, 1.00005697e-01,\n",
              "        1.00005314e-01, 1.00065631e-01, 1.00002786e-01, 1.00003151e-01,\n",
              "        1.00002962e-01, 1.00002704e-01, 1.00003108e-01, 1.00008765e-01,\n",
              "        1.00001728e-01, 1.00003668e-01, 1.00005223e-01, 1.00003534e-01,\n",
              "        1.00003772e-01, 4.16508134e+02, 1.00002582e-01, 1.00007270e-01,\n",
              "        3.45591329e+02, 1.00005836e-01, 1.00009472e-01, 1.00006747e-01,\n",
              "        1.00003461e-01, 1.00007243e-01, 1.00003054e-01, 1.00002673e-01,\n",
              "        1.00007057e-01, 1.00002923e-01, 1.00005636e-01, 1.00004858e-01,\n",
              "        1.00005323e-01, 1.00002842e-01, 1.00003289e-01, 9.60999456e+01,\n",
              "        1.00005678e-01, 1.00004804e-01, 5.54865057e+01, 1.00001198e-01,\n",
              "        1.00002558e-01, 1.00003938e-01, 2.92951045e+02, 1.00001360e-01,\n",
              "        6.28807192e+01, 1.50099936e+02, 1.00006521e-01, 2.91206792e+01,\n",
              "        1.00003208e-01, 1.00003993e-01, 1.00004077e-01, 1.00002990e-01,\n",
              "        6.27368183e+01, 1.00005733e-01, 1.00002220e-01, 1.00011415e-01,\n",
              "        1.81929719e+02, 1.00007634e-01, 1.00006125e-01, 1.00008660e-01,\n",
              "        1.00005802e-01, 1.76099955e+02, 1.00007233e-01, 1.29099946e+02,\n",
              "        1.00002983e-01, 1.00003547e-01, 1.00015468e-01, 1.00003625e-01,\n",
              "        8.94878319e+01]])"
            ]
          },
          "metadata": {},
          "execution_count": 49
        }
      ]
    },
    {
      "cell_type": "code",
      "source": [
        "#Word Probablities in Topics\n",
        "Word_Topics_Pro = lda.components_ / lda.components_.sum(axis=1)[:, np.newaxis]\n",
        "print(Word_Topics_Pro)"
      ],
      "metadata": {
        "colab": {
          "base_uri": "https://localhost:8080/"
        },
        "id": "mLTTkUksvwWN",
        "outputId": "8a3ef45c-77db-495f-ae36-77fb839f91bc"
      },
      "execution_count": null,
      "outputs": [
        {
          "output_type": "stream",
          "name": "stdout",
          "text": [
            "[[6.65288345e-05 6.65279770e-05 6.65275408e-05 6.65267594e-05\n",
            "  1.38436994e-01 1.03676833e-01 6.65288882e-05 6.65305249e-05\n",
            "  6.65278571e-05 1.83473305e-02 6.65276848e-05 6.65269839e-05\n",
            "  6.65305396e-05 6.65272979e-05 6.65293839e-05 6.65256446e-05\n",
            "  6.65275205e-05 6.65277585e-05 1.12492529e-01 6.65278729e-05\n",
            "  6.65261633e-05 6.65262662e-05 6.65268788e-05 6.65263086e-05\n",
            "  6.65263862e-05 6.65285441e-05 6.65285910e-05 6.65297882e-05\n",
            "  6.65301526e-05 6.65282542e-05 6.65263727e-05 6.65294617e-05\n",
            "  6.65278930e-05 7.74260490e-05 6.65271155e-05 6.65272153e-05\n",
            "  6.65276606e-05 6.65274895e-05 8.10484063e-02 6.65285413e-05\n",
            "  6.65261022e-05 6.65272281e-05 1.79682044e-01 6.65268209e-05\n",
            "  6.72653176e-05 6.65278780e-05 6.65301419e-05 6.65271957e-05\n",
            "  1.61055254e-01 6.65284014e-05 6.65315268e-05 6.65267347e-05\n",
            "  6.65309192e-05 6.65300418e-05 6.65253967e-05 6.65299997e-05\n",
            "  9.32004918e-02 6.65253702e-05 6.65267304e-05 6.65277897e-05\n",
            "  6.65316267e-05 6.65295996e-05 8.98742759e-02 6.65254433e-05\n",
            "  6.65336027e-05 6.65286649e-05 6.65298733e-05 6.65283981e-05\n",
            "  6.65262343e-05 6.65259296e-05 6.65252618e-05 6.65265778e-05\n",
            "  6.65275126e-05 6.65259052e-05 1.77168306e-02 6.65277104e-05\n",
            "  6.65312490e-05]\n",
            " [5.52191606e-05 5.52164950e-05 5.52160417e-05 5.52159537e-05\n",
            "  5.52161719e-05 1.02626031e-01 5.52177436e-05 5.52177389e-05\n",
            "  5.52173569e-05 5.52195127e-05 5.52175278e-05 1.59625620e-01\n",
            "  5.52164069e-05 5.52202787e-05 5.52162018e-05 5.52169492e-05\n",
            "  5.52199601e-05 5.52161303e-05 5.52157301e-05 5.52176912e-05\n",
            "  5.52170938e-05 5.52159661e-05 5.52168206e-05 5.52158130e-05\n",
            "  7.62514543e-02 5.52171335e-05 5.52183816e-05 5.52173660e-05\n",
            "  5.52202375e-05 5.52187441e-05 5.52184405e-05 5.52171797e-05\n",
            "  5.52254080e-05 6.03435501e-02 5.52170162e-05 6.18956405e-02\n",
            "  5.52178076e-05 5.52173511e-05 6.55934032e-03 5.52172166e-05\n",
            "  5.52171021e-05 5.52179839e-05 5.52173785e-05 5.52175153e-05\n",
            "  5.52170840e-05 5.52160748e-05 1.18745682e-02 7.23864288e-02\n",
            "  5.52169227e-05 5.14048438e-02 5.52209648e-05 2.65637814e-01\n",
            "  1.52990646e-02 5.52171032e-05 5.52156051e-05 5.52183849e-05\n",
            "  5.52159778e-05 5.52175208e-05 8.34293671e-02 5.52168549e-05\n",
            "  1.40437185e-02 5.52170451e-05 5.52164843e-05 5.52190207e-05\n",
            "  5.52169392e-05 5.52177164e-05 5.52179888e-05 5.52193951e-05\n",
            "  5.52163132e-05 5.52162035e-05 5.52160620e-05 5.52160847e-05\n",
            "  5.52182376e-05 5.52163303e-05 1.51438525e-02 5.52188475e-05\n",
            "  5.52194277e-05]\n",
            " [4.45618597e-05 4.45615373e-05 4.45630379e-05 4.45616324e-05\n",
            "  4.45623891e-05 4.45853649e-05 4.45624049e-05 4.45636847e-05\n",
            "  4.45628896e-05 4.45638230e-05 3.58332041e-02 4.45624278e-05\n",
            "  4.45619379e-05 4.46925913e-05 4.45624487e-05 4.45614139e-05\n",
            "  4.45625175e-05 4.45614654e-05 4.45612986e-05 9.27298903e-02\n",
            "  4.45633644e-05 4.45626985e-05 4.45618830e-05 4.45627886e-05\n",
            "  4.45628426e-05 4.45640406e-05 4.45620624e-05 1.64894965e-02\n",
            "  4.45642294e-05 4.45623320e-05 4.45622110e-05 4.45627987e-05\n",
            "  4.45621344e-05 4.45952180e-05 4.45637813e-05 4.45616658e-05\n",
            "  4.83922995e-02 3.72122778e-01 4.45626887e-05 4.45618100e-05\n",
            "  5.26256553e-02 4.45638422e-05 4.45621085e-05 4.45651757e-05\n",
            "  4.45618322e-05 4.45636114e-05 4.45634694e-05 4.45620721e-05\n",
            "  4.45612948e-05 4.45620950e-05 1.18007634e-03 4.45623624e-05\n",
            "  6.77832123e-03 4.45647081e-05 4.45614814e-05 4.45649348e-05\n",
            "  4.45620207e-05 4.45615283e-05 4.45616940e-05 4.45614742e-05\n",
            "  3.36878171e-02 4.45618078e-05 4.45617066e-05 6.08795073e-02\n",
            "  4.45662424e-05 4.45642080e-05 2.66069331e-01 4.51264958e-05\n",
            "  4.45621404e-05 4.45624775e-05 4.45628521e-05 4.45642858e-05\n",
            "  4.45620484e-05 4.45612656e-05 1.03142981e-02 4.45634900e-05\n",
            "  4.45674899e-05]\n",
            " [4.22060368e-05 4.22047774e-05 4.22050297e-05 4.22041262e-05\n",
            "  4.22051883e-05 9.66239912e-02 4.22053736e-05 4.22059092e-05\n",
            "  4.22049253e-05 5.58137965e-02 4.22115316e-05 4.22049294e-05\n",
            "  4.22044609e-05 6.47551135e-02 4.22049904e-05 4.22046896e-05\n",
            "  4.22056647e-05 4.22043495e-05 4.22040181e-05 4.22058679e-05\n",
            "  4.22050080e-05 4.22058691e-05 4.22043294e-05 4.22045008e-05\n",
            "  4.22052131e-05 4.22061576e-05 4.22046387e-05 4.22056039e-05\n",
            "  2.51040200e-03 7.89621669e-02 4.22057419e-05 5.40622797e-02\n",
            "  4.22054134e-05 2.30407624e-01 1.39734786e-01 4.22045323e-05\n",
            "  4.22053468e-05 4.22050591e-05 9.09553069e-03 4.22054228e-05\n",
            "  4.22053218e-05 5.06860245e-02 4.22050070e-05 4.22057442e-05\n",
            "  4.22064255e-05 6.08147953e-02 4.22069159e-05 4.22045592e-05\n",
            "  4.22043812e-05 4.22043354e-05 4.22074799e-05 4.22044295e-05\n",
            "  4.22089342e-05 4.22063230e-05 4.22058872e-05 7.06894105e-03\n",
            "  4.22041288e-05 4.22051497e-05 4.22044320e-05 4.22043878e-05\n",
            "  4.22088815e-05 4.22060910e-05 4.22042880e-05 4.22066797e-05\n",
            "  2.40058380e-02 5.94949795e-02 4.22061404e-05 4.22061273e-05\n",
            "  4.22046649e-05 4.22052140e-05 4.22052357e-05 4.22053726e-05\n",
            "  4.22053064e-05 4.22042763e-05 4.22110442e-05 6.33469866e-02\n",
            "  4.22068004e-05]\n",
            " [5.02906517e-05 5.02914020e-05 5.02904524e-05 5.02909678e-05\n",
            "  5.02893057e-05 5.03030384e-05 5.02917367e-05 2.95794731e-02\n",
            "  9.20761257e-02 5.03112318e-05 5.03044765e-05 5.02901771e-05\n",
            "  5.02928498e-05 5.02899441e-05 5.02886214e-05 5.02885384e-05\n",
            "  5.02892969e-05 3.07306016e-01 5.02902796e-05 5.02919039e-05\n",
            "  5.02889045e-05 5.02884930e-05 5.02881888e-05 5.02922624e-05\n",
            "  5.02890415e-05 5.02906198e-05 5.02897482e-05 5.02906971e-05\n",
            "  1.62310450e-02 5.02902134e-05 5.02887794e-05 5.02894175e-05\n",
            "  5.09889290e-05 5.02895663e-05 5.02911473e-05 5.02894355e-05\n",
            "  5.02898244e-05 5.02894247e-05 5.02952569e-05 5.02900938e-05\n",
            "  5.02897267e-05 5.02908148e-05 5.02889280e-05 5.02895253e-05\n",
            "  5.02888139e-05 5.02900958e-05 3.40564297e-02 5.02887334e-05\n",
            "  5.02889850e-05 5.02917595e-05 6.07520118e-03 5.02887165e-05\n",
            "  2.61000751e-02 5.02903358e-05 5.02904214e-05 3.20922074e-03\n",
            "  5.02897790e-05 8.95617634e-02 5.02887870e-05 3.75193945e-01\n",
            "  5.02935905e-05 2.70841343e-04 5.02906687e-05 5.02898704e-05\n",
            "  1.70702561e-02 5.02916028e-05 5.02899201e-05 5.02908286e-05\n",
            "  5.02902662e-05 5.02880966e-05 5.02892935e-05 5.02905814e-05\n",
            "  5.02905397e-05 5.02892199e-05 5.02917586e-05 5.02890180e-05\n",
            "  5.02917137e-05]\n",
            " [6.83619508e-05 9.30170893e-02 6.83489130e-05 6.63626696e-02\n",
            "  6.83478999e-05 9.97397698e-04 6.83492055e-05 6.83509019e-05\n",
            "  6.83487427e-05 6.83534271e-05 6.83535897e-05 6.83472693e-05\n",
            "  6.84130007e-02 6.83498045e-05 8.95998594e-02 8.82329682e-02\n",
            "  6.83477958e-05 6.83477788e-05 6.83477858e-05 6.83477786e-05\n",
            "  6.83480500e-05 6.83471221e-05 6.97799055e-02 6.83513048e-05\n",
            "  6.83472261e-05 1.72282486e-03 6.83487339e-05 6.83495024e-05\n",
            "  3.23895213e-02 6.83495923e-05 6.83485530e-05 6.83523949e-05\n",
            "  6.83479769e-05 6.83473161e-05 6.83485193e-05 6.83464064e-05\n",
            "  6.83494992e-05 6.83475605e-05 6.24374182e-03 6.83482897e-05\n",
            "  6.83477313e-05 6.83471781e-05 6.83463428e-05 6.83512404e-05\n",
            "  7.66106910e-02 6.83483472e-05 7.98513290e-03 6.83483801e-05\n",
            "  6.83471402e-05 6.83460005e-05 1.87802819e-04 6.83461807e-05\n",
            "  7.23360403e-03 6.83514784e-05 6.83491639e-05 6.83484199e-05\n",
            "  6.83481643e-05 6.83496792e-05 6.83470368e-05 6.83471883e-05\n",
            "  6.83551522e-05 6.83480144e-05 6.83471528e-05 6.83482077e-05\n",
            "  6.83584354e-05 1.86083964e-02 6.83480295e-05 6.83486485e-05\n",
            "  1.83915523e-01 6.83509425e-05 7.04633153e-02 6.83500168e-05\n",
            "  6.83480277e-05 1.14203956e-01 6.83490115e-05 6.83461761e-05\n",
            "  6.83520913e-05]\n",
            " [5.17551870e-05 5.17543309e-05 5.17555534e-05 5.17541099e-05\n",
            "  5.17539714e-05 5.17541035e-05 5.17569253e-05 5.17552192e-05\n",
            "  5.17549744e-05 1.23510696e-02 5.17572074e-05 5.17563027e-05\n",
            "  5.17544275e-05 8.55661263e-05 5.17550809e-05 5.17554783e-05\n",
            "  5.17561023e-05 5.17543913e-05 5.17550512e-05 5.17562867e-05\n",
            "  5.17552757e-05 5.17557030e-05 5.17537995e-05 5.17567465e-05\n",
            "  5.17566090e-05 1.40262571e-04 5.17549007e-05 5.17574640e-05\n",
            "  2.96503002e-02 5.17569781e-05 5.17565519e-05 5.17556901e-05\n",
            "  1.97561657e-04 5.41515288e-04 5.17546751e-05 5.17549701e-05\n",
            "  3.10668945e-04 5.17528325e-05 5.17577764e-05 5.17560334e-05\n",
            "  5.17592616e-05 5.17568577e-05 5.17559964e-05 5.17553415e-05\n",
            "  5.39632170e-05 5.17553897e-05 5.17594692e-05 5.17543707e-05\n",
            "  5.17542953e-05 5.17580908e-05 3.13336296e-02 5.17551408e-05\n",
            "  8.73682946e-03 5.17565451e-05 5.17562573e-05 2.90579909e-02\n",
            "  5.17538215e-05 5.17543696e-05 5.17550587e-05 5.17547824e-05\n",
            "  1.74032756e-02 5.17529167e-05 5.17539439e-05 2.98666885e-04\n",
            "  5.17558157e-05 5.17566764e-05 5.17554719e-05 1.50414303e-02\n",
            "  5.17557090e-05 5.17550641e-05 5.17552791e-05 5.17555736e-05\n",
            "  8.39998687e-01 5.17527396e-05 5.17599844e-05 5.17562340e-05\n",
            "  1.16414913e-02]\n",
            " [4.80093167e-05 4.80090510e-05 4.80102419e-05 4.80095454e-05\n",
            "  4.80103409e-05 4.80108645e-05 4.80102986e-05 4.80116575e-05\n",
            "  4.80110455e-05 1.76209395e-02 4.80112853e-05 4.80099134e-05\n",
            "  4.80096234e-05 4.80190572e-05 4.80091996e-05 4.80089809e-05\n",
            "  4.80094891e-05 4.80094797e-05 4.80093031e-05 4.80115456e-05\n",
            "  4.80091553e-05 5.04561805e-02 4.80098846e-05 7.39799985e-02\n",
            "  4.80090398e-05 4.80136588e-05 4.80093024e-05 4.80110055e-05\n",
            "  4.80150316e-05 4.80118886e-05 8.74221827e-02 4.80100758e-05\n",
            "  4.80108669e-05 4.80120757e-05 4.80104929e-05 4.80089617e-05\n",
            "  4.80097467e-05 4.80088442e-05 4.80101125e-05 1.00864370e-01\n",
            "  4.80087718e-05 4.80108820e-05 4.80099384e-05 4.80103996e-05\n",
            "  4.80097386e-05 4.80110790e-05 4.80127184e-05 4.80089981e-05\n",
            "  4.80089261e-05 4.80094485e-05 4.80129686e-05 4.80094731e-05\n",
            "  1.17770786e-02 4.80100556e-05 4.80112419e-05 4.80128861e-05\n",
            "  4.80090854e-05 4.80091149e-05 4.80093709e-05 4.80094694e-05\n",
            "  4.80342626e-05 5.48086529e-01 4.80094158e-05 4.80090008e-05\n",
            "  4.80141438e-05 4.80113646e-05 4.80109641e-05 5.76740053e-02\n",
            "  4.80109497e-05 4.80131052e-05 4.80303099e-05 4.80122090e-05\n",
            "  4.80091791e-05 4.80088237e-05 3.91479087e-02 4.80116511e-05\n",
            "  9.75405717e-03]\n",
            " [9.20917082e-02 4.64915234e-05 1.36719722e-01 4.64882864e-05\n",
            "  4.64895612e-05 8.27078015e-02 4.64886238e-05 4.64896863e-05\n",
            "  4.64896387e-05 4.64919497e-05 4.64908268e-05 4.64893730e-05\n",
            "  4.64885370e-05 1.42706217e-02 4.64893098e-05 4.64907606e-05\n",
            "  4.88583428e-02 4.64889415e-05 4.64900330e-05 4.64894642e-05\n",
            "  1.10221850e-01 4.64909916e-05 4.64880974e-05 4.64900567e-05\n",
            "  4.64890163e-05 4.64912859e-05 1.50201100e-01 7.35409095e-02\n",
            "  4.64911829e-05 4.64912806e-05 4.64898310e-05 4.64896849e-05\n",
            "  2.12362725e-01 4.64907669e-05 4.64895131e-05 4.64897324e-05\n",
            "  4.64897854e-05 4.64897031e-05 4.64913417e-05 4.64893535e-05\n",
            "  4.64896421e-05 4.64905744e-05 4.64900187e-05 4.64894061e-05\n",
            "  4.64895502e-05 4.64898137e-05 4.64895433e-05 4.64908065e-05\n",
            "  4.64891615e-05 4.64890380e-05 4.64920430e-05 4.64912498e-05\n",
            "  4.64965515e-05 4.64899713e-05 4.60690932e-02 4.64899549e-05\n",
            "  4.64883804e-05 4.64888992e-05 4.64885208e-05 4.64895415e-05\n",
            "  4.64920170e-05 4.64897623e-05 4.64895182e-05 4.64895116e-05\n",
            "  1.88940233e-02 4.64913223e-05 4.64910455e-05 4.64909744e-05\n",
            "  4.64896761e-05 4.64892989e-05 4.64900041e-05 4.64898820e-05\n",
            "  4.64902538e-05 4.64888154e-05 1.10402467e-02 4.64903390e-05\n",
            "  4.64921444e-05]\n",
            " [2.99248018e-05 2.99244089e-05 2.99241482e-05 2.99242738e-05\n",
            "  2.99239621e-05 3.16154241e-01 3.11497580e-02 1.23818253e-02\n",
            "  2.99240084e-05 2.99243648e-05 1.37001415e-02 2.99246385e-05\n",
            "  2.99245237e-05 2.99425724e-05 2.99237673e-05 2.99238765e-05\n",
            "  2.99238200e-05 2.99237427e-05 2.99238638e-05 2.99255565e-05\n",
            "  2.99234508e-05 2.99240313e-05 2.99244965e-05 2.99239911e-05\n",
            "  2.99240624e-05 1.24631453e-01 2.99237064e-05 2.99251090e-05\n",
            "  1.03411064e-01 2.99246799e-05 2.99257680e-05 2.99249525e-05\n",
            "  2.99239693e-05 2.99251011e-05 2.99238474e-05 2.99237335e-05\n",
            "  2.99250454e-05 2.99238082e-05 2.99246202e-05 2.99243873e-05\n",
            "  2.99245263e-05 2.99237841e-05 2.99239177e-05 2.87559230e-02\n",
            "  2.99246328e-05 2.99243713e-05 1.66031903e-02 2.99232922e-05\n",
            "  2.99236991e-05 2.99241120e-05 8.76595471e-02 2.99233406e-05\n",
            "  1.88157559e-02 4.49143044e-02 2.99248849e-05 8.71376153e-03\n",
            "  2.99238936e-05 2.99241284e-05 2.99241535e-05 2.99238283e-05\n",
            "  1.87726965e-02 2.99246492e-05 2.99235981e-05 2.99263494e-05\n",
            "  5.44387090e-02 2.99252180e-05 2.99247663e-05 2.99255249e-05\n",
            "  2.99246697e-05 5.26942728e-02 2.99250981e-05 3.86304912e-02\n",
            "  2.99238264e-05 2.99239950e-05 2.99275621e-05 2.99240185e-05\n",
            "  2.67773846e-02]]\n"
          ]
        }
      ]
    },
    {
      "cell_type": "code",
      "source": [
        "for topic_idx, topic in enumerate(Word_Topics_Pro):\n",
        "    print(\"\\nTopic #%d:\" % topic_idx)\n",
        "    count_dict = (zip(ReducedTerm, topic))\n",
        "    count_dict = sorted(count_dict, key=lambda x:x[1], reverse=True)[0:5]\n",
        "    for w in count_dict:\n",
        "        print(w[0], ': {0:.3f}'.format(w[1]))"
      ],
      "metadata": {
        "colab": {
          "base_uri": "https://localhost:8080/"
        },
        "id": "VJsJv9FZvzwM",
        "outputId": "ef4a7df9-d47e-47d6-f16b-7a3d8e0d07e4"
      },
      "execution_count": null,
      "outputs": [
        {
          "output_type": "stream",
          "name": "stdout",
          "text": [
            "\n",
            "Topic #0:\n",
            "minutes : 0.180\n",
            "people : 0.161\n",
            "airport : 0.138\n",
            "customers : 0.112\n",
            "americanair : 0.104\n",
            "\n",
            "Topic #1:\n",
            "plane : 0.266\n",
            "call : 0.160\n",
            "americanair : 0.103\n",
            "seats : 0.083\n",
            "flightr : 0.076\n",
            "\n",
            "Topic #2:\n",
            "jetblue : 0.372\n",
            "time : 0.266\n",
            "days : 0.093\n",
            "system : 0.061\n",
            "miles : 0.053\n",
            "\n",
            "Topic #3:\n",
            "hours : 0.230\n",
            "http : 0.140\n",
            "americanair : 0.097\n",
            "hold : 0.079\n",
            "change : 0.065\n",
            "\n",
            "Topic #4:\n",
            "service : 0.375\n",
            "customer : 0.307\n",
            "baggage : 0.092\n",
            "seat : 0.090\n",
            "number : 0.034\n",
            "\n",
            "Topic #5:\n",
            "today : 0.184\n",
            "virginamerica : 0.114\n",
            "agents : 0.093\n",
            "check : 0.090\n",
            "connection : 0.088\n",
            "\n",
            "Topic #6:\n",
            "usairways : 0.840\n",
            "phone : 0.031\n",
            "help : 0.030\n",
            "reservation : 0.029\n",
            "someone : 0.017\n",
            "\n",
            "Topic #7:\n",
            "southwestair : 0.548\n",
            "luggage : 0.101\n",
            "home : 0.087\n",
            "experience : 0.074\n",
            "times : 0.058\n",
            "\n",
            "Topic #8:\n",
            "hour : 0.212\n",
            "gate : 0.150\n",
            "airline : 0.137\n",
            "delay : 0.110\n",
            "agent : 0.092\n",
            "\n",
            "Topic #9:\n",
            "americanair : 0.316\n",
            "flights : 0.125\n",
            "help : 0.103\n",
            "phone : 0.088\n",
            "thanks : 0.054\n"
          ]
        }
      ]
    },
    {
      "cell_type": "code",
      "source": [
        "# View full Word Probabilities by Topic Matrix\n",
        "df_topic_keywords = pd.DataFrame(Word_Topics_Pro)\n",
        "df_topic_keywords.columns = ReducedTerm\n",
        "df_topic_keywords"
      ],
      "metadata": {
        "colab": {
          "base_uri": "https://localhost:8080/",
          "height": 457
        },
        "id": "wvH5r9PVv5W4",
        "outputId": "b720d0d8-25f6-487a-bf79-9d3e664e3773"
      },
      "execution_count": null,
      "outputs": [
        {
          "output_type": "execute_result",
          "data": {
            "text/plain": [
              "      agent    agents   airline  airlines   airport  americanair    anyone  \\\n",
              "0  0.000067  0.000067  0.000067  0.000067  0.138437     0.103677  0.000067   \n",
              "1  0.000055  0.000055  0.000055  0.000055  0.000055     0.102626  0.000055   \n",
              "2  0.000045  0.000045  0.000045  0.000045  0.000045     0.000045  0.000045   \n",
              "3  0.000042  0.000042  0.000042  0.000042  0.000042     0.096624  0.000042   \n",
              "4  0.000050  0.000050  0.000050  0.000050  0.000050     0.000050  0.000050   \n",
              "5  0.000068  0.093017  0.000068  0.066363  0.000068     0.000997  0.000068   \n",
              "6  0.000052  0.000052  0.000052  0.000052  0.000052     0.000052  0.000052   \n",
              "7  0.000048  0.000048  0.000048  0.000048  0.000048     0.000048  0.000048   \n",
              "8  0.092092  0.000046  0.136720  0.000046  0.000046     0.082708  0.000046   \n",
              "9  0.000030  0.000030  0.000030  0.000030  0.000030     0.316154  0.031150   \n",
              "\n",
              "   anything   baggage      bags  ...     times     today  tomorrow    travel  \\\n",
              "0  0.000067  0.000067  0.018347  ...  0.000067  0.000067  0.000067  0.000067   \n",
              "1  0.000055  0.000055  0.000055  ...  0.000055  0.000055  0.000055  0.000055   \n",
              "2  0.000045  0.000045  0.000045  ...  0.000045  0.000045  0.000045  0.000045   \n",
              "3  0.000042  0.000042  0.055814  ...  0.000042  0.000042  0.000042  0.000042   \n",
              "4  0.029579  0.092076  0.000050  ...  0.000050  0.000050  0.000050  0.000050   \n",
              "5  0.000068  0.000068  0.000068  ...  0.000068  0.183916  0.000068  0.070463   \n",
              "6  0.000052  0.000052  0.012351  ...  0.015041  0.000052  0.000052  0.000052   \n",
              "7  0.000048  0.000048  0.017621  ...  0.057674  0.000048  0.000048  0.000048   \n",
              "8  0.000046  0.000046  0.000046  ...  0.000046  0.000046  0.000046  0.000046   \n",
              "9  0.012382  0.000030  0.000030  ...  0.000030  0.000030  0.052694  0.000030   \n",
              "\n",
              "       trip  usairways  virginamerica      wait   weather      work  \n",
              "0  0.000067   0.000067       0.000067  0.017717  0.000067  0.000067  \n",
              "1  0.000055   0.000055       0.000055  0.015144  0.000055  0.000055  \n",
              "2  0.000045   0.000045       0.000045  0.010314  0.000045  0.000045  \n",
              "3  0.000042   0.000042       0.000042  0.000042  0.063347  0.000042  \n",
              "4  0.000050   0.000050       0.000050  0.000050  0.000050  0.000050  \n",
              "5  0.000068   0.000068       0.114204  0.000068  0.000068  0.000068  \n",
              "6  0.000052   0.839999       0.000052  0.000052  0.000052  0.011641  \n",
              "7  0.000048   0.000048       0.000048  0.039148  0.000048  0.009754  \n",
              "8  0.000046   0.000046       0.000046  0.011040  0.000046  0.000046  \n",
              "9  0.038630   0.000030       0.000030  0.000030  0.000030  0.026777  \n",
              "\n",
              "[10 rows x 77 columns]"
            ],
            "text/html": [
              "\n",
              "\n",
              "  <div id=\"df-f3568c57-89fe-47c1-b3aa-b6a39f051496\">\n",
              "    <div class=\"colab-df-container\">\n",
              "      <div>\n",
              "<style scoped>\n",
              "    .dataframe tbody tr th:only-of-type {\n",
              "        vertical-align: middle;\n",
              "    }\n",
              "\n",
              "    .dataframe tbody tr th {\n",
              "        vertical-align: top;\n",
              "    }\n",
              "\n",
              "    .dataframe thead th {\n",
              "        text-align: right;\n",
              "    }\n",
              "</style>\n",
              "<table border=\"1\" class=\"dataframe\">\n",
              "  <thead>\n",
              "    <tr style=\"text-align: right;\">\n",
              "      <th></th>\n",
              "      <th>agent</th>\n",
              "      <th>agents</th>\n",
              "      <th>airline</th>\n",
              "      <th>airlines</th>\n",
              "      <th>airport</th>\n",
              "      <th>americanair</th>\n",
              "      <th>anyone</th>\n",
              "      <th>anything</th>\n",
              "      <th>baggage</th>\n",
              "      <th>bags</th>\n",
              "      <th>...</th>\n",
              "      <th>times</th>\n",
              "      <th>today</th>\n",
              "      <th>tomorrow</th>\n",
              "      <th>travel</th>\n",
              "      <th>trip</th>\n",
              "      <th>usairways</th>\n",
              "      <th>virginamerica</th>\n",
              "      <th>wait</th>\n",
              "      <th>weather</th>\n",
              "      <th>work</th>\n",
              "    </tr>\n",
              "  </thead>\n",
              "  <tbody>\n",
              "    <tr>\n",
              "      <th>0</th>\n",
              "      <td>0.000067</td>\n",
              "      <td>0.000067</td>\n",
              "      <td>0.000067</td>\n",
              "      <td>0.000067</td>\n",
              "      <td>0.138437</td>\n",
              "      <td>0.103677</td>\n",
              "      <td>0.000067</td>\n",
              "      <td>0.000067</td>\n",
              "      <td>0.000067</td>\n",
              "      <td>0.018347</td>\n",
              "      <td>...</td>\n",
              "      <td>0.000067</td>\n",
              "      <td>0.000067</td>\n",
              "      <td>0.000067</td>\n",
              "      <td>0.000067</td>\n",
              "      <td>0.000067</td>\n",
              "      <td>0.000067</td>\n",
              "      <td>0.000067</td>\n",
              "      <td>0.017717</td>\n",
              "      <td>0.000067</td>\n",
              "      <td>0.000067</td>\n",
              "    </tr>\n",
              "    <tr>\n",
              "      <th>1</th>\n",
              "      <td>0.000055</td>\n",
              "      <td>0.000055</td>\n",
              "      <td>0.000055</td>\n",
              "      <td>0.000055</td>\n",
              "      <td>0.000055</td>\n",
              "      <td>0.102626</td>\n",
              "      <td>0.000055</td>\n",
              "      <td>0.000055</td>\n",
              "      <td>0.000055</td>\n",
              "      <td>0.000055</td>\n",
              "      <td>...</td>\n",
              "      <td>0.000055</td>\n",
              "      <td>0.000055</td>\n",
              "      <td>0.000055</td>\n",
              "      <td>0.000055</td>\n",
              "      <td>0.000055</td>\n",
              "      <td>0.000055</td>\n",
              "      <td>0.000055</td>\n",
              "      <td>0.015144</td>\n",
              "      <td>0.000055</td>\n",
              "      <td>0.000055</td>\n",
              "    </tr>\n",
              "    <tr>\n",
              "      <th>2</th>\n",
              "      <td>0.000045</td>\n",
              "      <td>0.000045</td>\n",
              "      <td>0.000045</td>\n",
              "      <td>0.000045</td>\n",
              "      <td>0.000045</td>\n",
              "      <td>0.000045</td>\n",
              "      <td>0.000045</td>\n",
              "      <td>0.000045</td>\n",
              "      <td>0.000045</td>\n",
              "      <td>0.000045</td>\n",
              "      <td>...</td>\n",
              "      <td>0.000045</td>\n",
              "      <td>0.000045</td>\n",
              "      <td>0.000045</td>\n",
              "      <td>0.000045</td>\n",
              "      <td>0.000045</td>\n",
              "      <td>0.000045</td>\n",
              "      <td>0.000045</td>\n",
              "      <td>0.010314</td>\n",
              "      <td>0.000045</td>\n",
              "      <td>0.000045</td>\n",
              "    </tr>\n",
              "    <tr>\n",
              "      <th>3</th>\n",
              "      <td>0.000042</td>\n",
              "      <td>0.000042</td>\n",
              "      <td>0.000042</td>\n",
              "      <td>0.000042</td>\n",
              "      <td>0.000042</td>\n",
              "      <td>0.096624</td>\n",
              "      <td>0.000042</td>\n",
              "      <td>0.000042</td>\n",
              "      <td>0.000042</td>\n",
              "      <td>0.055814</td>\n",
              "      <td>...</td>\n",
              "      <td>0.000042</td>\n",
              "      <td>0.000042</td>\n",
              "      <td>0.000042</td>\n",
              "      <td>0.000042</td>\n",
              "      <td>0.000042</td>\n",
              "      <td>0.000042</td>\n",
              "      <td>0.000042</td>\n",
              "      <td>0.000042</td>\n",
              "      <td>0.063347</td>\n",
              "      <td>0.000042</td>\n",
              "    </tr>\n",
              "    <tr>\n",
              "      <th>4</th>\n",
              "      <td>0.000050</td>\n",
              "      <td>0.000050</td>\n",
              "      <td>0.000050</td>\n",
              "      <td>0.000050</td>\n",
              "      <td>0.000050</td>\n",
              "      <td>0.000050</td>\n",
              "      <td>0.000050</td>\n",
              "      <td>0.029579</td>\n",
              "      <td>0.092076</td>\n",
              "      <td>0.000050</td>\n",
              "      <td>...</td>\n",
              "      <td>0.000050</td>\n",
              "      <td>0.000050</td>\n",
              "      <td>0.000050</td>\n",
              "      <td>0.000050</td>\n",
              "      <td>0.000050</td>\n",
              "      <td>0.000050</td>\n",
              "      <td>0.000050</td>\n",
              "      <td>0.000050</td>\n",
              "      <td>0.000050</td>\n",
              "      <td>0.000050</td>\n",
              "    </tr>\n",
              "    <tr>\n",
              "      <th>5</th>\n",
              "      <td>0.000068</td>\n",
              "      <td>0.093017</td>\n",
              "      <td>0.000068</td>\n",
              "      <td>0.066363</td>\n",
              "      <td>0.000068</td>\n",
              "      <td>0.000997</td>\n",
              "      <td>0.000068</td>\n",
              "      <td>0.000068</td>\n",
              "      <td>0.000068</td>\n",
              "      <td>0.000068</td>\n",
              "      <td>...</td>\n",
              "      <td>0.000068</td>\n",
              "      <td>0.183916</td>\n",
              "      <td>0.000068</td>\n",
              "      <td>0.070463</td>\n",
              "      <td>0.000068</td>\n",
              "      <td>0.000068</td>\n",
              "      <td>0.114204</td>\n",
              "      <td>0.000068</td>\n",
              "      <td>0.000068</td>\n",
              "      <td>0.000068</td>\n",
              "    </tr>\n",
              "    <tr>\n",
              "      <th>6</th>\n",
              "      <td>0.000052</td>\n",
              "      <td>0.000052</td>\n",
              "      <td>0.000052</td>\n",
              "      <td>0.000052</td>\n",
              "      <td>0.000052</td>\n",
              "      <td>0.000052</td>\n",
              "      <td>0.000052</td>\n",
              "      <td>0.000052</td>\n",
              "      <td>0.000052</td>\n",
              "      <td>0.012351</td>\n",
              "      <td>...</td>\n",
              "      <td>0.015041</td>\n",
              "      <td>0.000052</td>\n",
              "      <td>0.000052</td>\n",
              "      <td>0.000052</td>\n",
              "      <td>0.000052</td>\n",
              "      <td>0.839999</td>\n",
              "      <td>0.000052</td>\n",
              "      <td>0.000052</td>\n",
              "      <td>0.000052</td>\n",
              "      <td>0.011641</td>\n",
              "    </tr>\n",
              "    <tr>\n",
              "      <th>7</th>\n",
              "      <td>0.000048</td>\n",
              "      <td>0.000048</td>\n",
              "      <td>0.000048</td>\n",
              "      <td>0.000048</td>\n",
              "      <td>0.000048</td>\n",
              "      <td>0.000048</td>\n",
              "      <td>0.000048</td>\n",
              "      <td>0.000048</td>\n",
              "      <td>0.000048</td>\n",
              "      <td>0.017621</td>\n",
              "      <td>...</td>\n",
              "      <td>0.057674</td>\n",
              "      <td>0.000048</td>\n",
              "      <td>0.000048</td>\n",
              "      <td>0.000048</td>\n",
              "      <td>0.000048</td>\n",
              "      <td>0.000048</td>\n",
              "      <td>0.000048</td>\n",
              "      <td>0.039148</td>\n",
              "      <td>0.000048</td>\n",
              "      <td>0.009754</td>\n",
              "    </tr>\n",
              "    <tr>\n",
              "      <th>8</th>\n",
              "      <td>0.092092</td>\n",
              "      <td>0.000046</td>\n",
              "      <td>0.136720</td>\n",
              "      <td>0.000046</td>\n",
              "      <td>0.000046</td>\n",
              "      <td>0.082708</td>\n",
              "      <td>0.000046</td>\n",
              "      <td>0.000046</td>\n",
              "      <td>0.000046</td>\n",
              "      <td>0.000046</td>\n",
              "      <td>...</td>\n",
              "      <td>0.000046</td>\n",
              "      <td>0.000046</td>\n",
              "      <td>0.000046</td>\n",
              "      <td>0.000046</td>\n",
              "      <td>0.000046</td>\n",
              "      <td>0.000046</td>\n",
              "      <td>0.000046</td>\n",
              "      <td>0.011040</td>\n",
              "      <td>0.000046</td>\n",
              "      <td>0.000046</td>\n",
              "    </tr>\n",
              "    <tr>\n",
              "      <th>9</th>\n",
              "      <td>0.000030</td>\n",
              "      <td>0.000030</td>\n",
              "      <td>0.000030</td>\n",
              "      <td>0.000030</td>\n",
              "      <td>0.000030</td>\n",
              "      <td>0.316154</td>\n",
              "      <td>0.031150</td>\n",
              "      <td>0.012382</td>\n",
              "      <td>0.000030</td>\n",
              "      <td>0.000030</td>\n",
              "      <td>...</td>\n",
              "      <td>0.000030</td>\n",
              "      <td>0.000030</td>\n",
              "      <td>0.052694</td>\n",
              "      <td>0.000030</td>\n",
              "      <td>0.038630</td>\n",
              "      <td>0.000030</td>\n",
              "      <td>0.000030</td>\n",
              "      <td>0.000030</td>\n",
              "      <td>0.000030</td>\n",
              "      <td>0.026777</td>\n",
              "    </tr>\n",
              "  </tbody>\n",
              "</table>\n",
              "<p>10 rows × 77 columns</p>\n",
              "</div>\n",
              "      <button class=\"colab-df-convert\" onclick=\"convertToInteractive('df-f3568c57-89fe-47c1-b3aa-b6a39f051496')\"\n",
              "              title=\"Convert this dataframe to an interactive table.\"\n",
              "              style=\"display:none;\">\n",
              "\n",
              "  <svg xmlns=\"http://www.w3.org/2000/svg\" height=\"24px\"viewBox=\"0 0 24 24\"\n",
              "       width=\"24px\">\n",
              "    <path d=\"M0 0h24v24H0V0z\" fill=\"none\"/>\n",
              "    <path d=\"M18.56 5.44l.94 2.06.94-2.06 2.06-.94-2.06-.94-.94-2.06-.94 2.06-2.06.94zm-11 1L8.5 8.5l.94-2.06 2.06-.94-2.06-.94L8.5 2.5l-.94 2.06-2.06.94zm10 10l.94 2.06.94-2.06 2.06-.94-2.06-.94-.94-2.06-.94 2.06-2.06.94z\"/><path d=\"M17.41 7.96l-1.37-1.37c-.4-.4-.92-.59-1.43-.59-.52 0-1.04.2-1.43.59L10.3 9.45l-7.72 7.72c-.78.78-.78 2.05 0 2.83L4 21.41c.39.39.9.59 1.41.59.51 0 1.02-.2 1.41-.59l7.78-7.78 2.81-2.81c.8-.78.8-2.07 0-2.86zM5.41 20L4 18.59l7.72-7.72 1.47 1.35L5.41 20z\"/>\n",
              "  </svg>\n",
              "      </button>\n",
              "\n",
              "\n",
              "\n",
              "    <div id=\"df-198415b6-0ba0-48e0-8f03-48c194110cce\">\n",
              "      <button class=\"colab-df-quickchart\" onclick=\"quickchart('df-198415b6-0ba0-48e0-8f03-48c194110cce')\"\n",
              "              title=\"Suggest charts.\"\n",
              "              style=\"display:none;\">\n",
              "\n",
              "<svg xmlns=\"http://www.w3.org/2000/svg\" height=\"24px\"viewBox=\"0 0 24 24\"\n",
              "     width=\"24px\">\n",
              "    <g>\n",
              "        <path d=\"M19 3H5c-1.1 0-2 .9-2 2v14c0 1.1.9 2 2 2h14c1.1 0 2-.9 2-2V5c0-1.1-.9-2-2-2zM9 17H7v-7h2v7zm4 0h-2V7h2v10zm4 0h-2v-4h2v4z\"/>\n",
              "    </g>\n",
              "</svg>\n",
              "      </button>\n",
              "    </div>\n",
              "\n",
              "<style>\n",
              "  .colab-df-quickchart {\n",
              "    background-color: #E8F0FE;\n",
              "    border: none;\n",
              "    border-radius: 50%;\n",
              "    cursor: pointer;\n",
              "    display: none;\n",
              "    fill: #1967D2;\n",
              "    height: 32px;\n",
              "    padding: 0 0 0 0;\n",
              "    width: 32px;\n",
              "  }\n",
              "\n",
              "  .colab-df-quickchart:hover {\n",
              "    background-color: #E2EBFA;\n",
              "    box-shadow: 0px 1px 2px rgba(60, 64, 67, 0.3), 0px 1px 3px 1px rgba(60, 64, 67, 0.15);\n",
              "    fill: #174EA6;\n",
              "  }\n",
              "\n",
              "  [theme=dark] .colab-df-quickchart {\n",
              "    background-color: #3B4455;\n",
              "    fill: #D2E3FC;\n",
              "  }\n",
              "\n",
              "  [theme=dark] .colab-df-quickchart:hover {\n",
              "    background-color: #434B5C;\n",
              "    box-shadow: 0px 1px 3px 1px rgba(0, 0, 0, 0.15);\n",
              "    filter: drop-shadow(0px 1px 2px rgba(0, 0, 0, 0.3));\n",
              "    fill: #FFFFFF;\n",
              "  }\n",
              "</style>\n",
              "\n",
              "    <script>\n",
              "      async function quickchart(key) {\n",
              "        const containerElement = document.querySelector('#' + key);\n",
              "        const charts = await google.colab.kernel.invokeFunction(\n",
              "            'suggestCharts', [key], {});\n",
              "      }\n",
              "    </script>\n",
              "\n",
              "      <script>\n",
              "\n",
              "function displayQuickchartButton(domScope) {\n",
              "  let quickchartButtonEl =\n",
              "    domScope.querySelector('#df-198415b6-0ba0-48e0-8f03-48c194110cce button.colab-df-quickchart');\n",
              "  quickchartButtonEl.style.display =\n",
              "    google.colab.kernel.accessAllowed ? 'block' : 'none';\n",
              "}\n",
              "\n",
              "        displayQuickchartButton(document);\n",
              "      </script>\n",
              "      <style>\n",
              "    .colab-df-container {\n",
              "      display:flex;\n",
              "      flex-wrap:wrap;\n",
              "      gap: 12px;\n",
              "    }\n",
              "\n",
              "    .colab-df-convert {\n",
              "      background-color: #E8F0FE;\n",
              "      border: none;\n",
              "      border-radius: 50%;\n",
              "      cursor: pointer;\n",
              "      display: none;\n",
              "      fill: #1967D2;\n",
              "      height: 32px;\n",
              "      padding: 0 0 0 0;\n",
              "      width: 32px;\n",
              "    }\n",
              "\n",
              "    .colab-df-convert:hover {\n",
              "      background-color: #E2EBFA;\n",
              "      box-shadow: 0px 1px 2px rgba(60, 64, 67, 0.3), 0px 1px 3px 1px rgba(60, 64, 67, 0.15);\n",
              "      fill: #174EA6;\n",
              "    }\n",
              "\n",
              "    [theme=dark] .colab-df-convert {\n",
              "      background-color: #3B4455;\n",
              "      fill: #D2E3FC;\n",
              "    }\n",
              "\n",
              "    [theme=dark] .colab-df-convert:hover {\n",
              "      background-color: #434B5C;\n",
              "      box-shadow: 0px 1px 3px 1px rgba(0, 0, 0, 0.15);\n",
              "      filter: drop-shadow(0px 1px 2px rgba(0, 0, 0, 0.3));\n",
              "      fill: #FFFFFF;\n",
              "    }\n",
              "  </style>\n",
              "\n",
              "      <script>\n",
              "        const buttonEl =\n",
              "          document.querySelector('#df-f3568c57-89fe-47c1-b3aa-b6a39f051496 button.colab-df-convert');\n",
              "        buttonEl.style.display =\n",
              "          google.colab.kernel.accessAllowed ? 'block' : 'none';\n",
              "\n",
              "        async function convertToInteractive(key) {\n",
              "          const element = document.querySelector('#df-f3568c57-89fe-47c1-b3aa-b6a39f051496');\n",
              "          const dataTable =\n",
              "            await google.colab.kernel.invokeFunction('convertToInteractive',\n",
              "                                                     [key], {});\n",
              "          if (!dataTable) return;\n",
              "\n",
              "          const docLinkHtml = 'Like what you see? Visit the ' +\n",
              "            '<a target=\"_blank\" href=https://colab.research.google.com/notebooks/data_table.ipynb>data table notebook</a>'\n",
              "            + ' to learn more about interactive tables.';\n",
              "          element.innerHTML = '';\n",
              "          dataTable['output_type'] = 'display_data';\n",
              "          await google.colab.output.renderOutput(dataTable, element);\n",
              "          const docLink = document.createElement('div');\n",
              "          docLink.innerHTML = docLinkHtml;\n",
              "          element.appendChild(docLink);\n",
              "        }\n",
              "      </script>\n",
              "    </div>\n",
              "  </div>\n"
            ]
          },
          "metadata": {},
          "execution_count": 52
        }
      ]
    },
    {
      "cell_type": "code",
      "source": [
        "!pip install wordcloud\n",
        "from matplotlib import pyplot\n",
        "\n",
        "from wordcloud import WordCloud\n",
        "import math\n",
        "rows = math.ceil(len(Word_Topics_Pro)/4)\n",
        "fig, ax = pyplot.subplots(rows, 4, figsize=(15,2.5*rows))\n",
        "[axi.set_axis_off() for axi in ax.ravel()]\n",
        "for topic_idx, topic in enumerate(Word_Topics_Pro):\n",
        "    count_dict = (zip(ReducedTerm, topic))\n",
        "    count_dict = sorted(count_dict, key=lambda x:x[1], reverse=True)\n",
        "    # convert to dictionary type - keep top 10 words\n",
        "    Word_Frequency = dict(count_dict[0:10])\n",
        "    # generate word cloud\n",
        "    wordcloud = WordCloud(background_color=\"white\").generate_from_frequencies(Word_Frequency)\n",
        "    # visualize word cloud in figure\n",
        "    subfig_Row = math.floor(topic_idx/4)\n",
        "    subfig_Col = math.ceil(topic_idx%4)\n",
        "    ax[subfig_Row,subfig_Col].imshow(wordcloud)\n",
        "    ax[subfig_Row,subfig_Col].set_title(\"Topic {}\".format(topic_idx+1))\n",
        "plt.show()\n",
        "\n",
        "\n"
      ],
      "metadata": {
        "colab": {
          "base_uri": "https://localhost:8080/",
          "height": 823
        },
        "id": "-U3wtwisv-CR",
        "outputId": "56853152-926e-4537-976d-da3f91c5fad5"
      },
      "execution_count": null,
      "outputs": [
        {
          "output_type": "stream",
          "name": "stdout",
          "text": [
            "Requirement already satisfied: wordcloud in /usr/local/lib/python3.10/dist-packages (1.8.2.2)\n",
            "Requirement already satisfied: numpy>=1.6.1 in /usr/local/lib/python3.10/dist-packages (from wordcloud) (1.22.4)\n",
            "Requirement already satisfied: pillow in /usr/local/lib/python3.10/dist-packages (from wordcloud) (9.4.0)\n",
            "Requirement already satisfied: matplotlib in /usr/local/lib/python3.10/dist-packages (from wordcloud) (3.7.1)\n",
            "Requirement already satisfied: contourpy>=1.0.1 in /usr/local/lib/python3.10/dist-packages (from matplotlib->wordcloud) (1.1.0)\n",
            "Requirement already satisfied: cycler>=0.10 in /usr/local/lib/python3.10/dist-packages (from matplotlib->wordcloud) (0.11.0)\n",
            "Requirement already satisfied: fonttools>=4.22.0 in /usr/local/lib/python3.10/dist-packages (from matplotlib->wordcloud) (4.41.1)\n",
            "Requirement already satisfied: kiwisolver>=1.0.1 in /usr/local/lib/python3.10/dist-packages (from matplotlib->wordcloud) (1.4.4)\n",
            "Requirement already satisfied: packaging>=20.0 in /usr/local/lib/python3.10/dist-packages (from matplotlib->wordcloud) (23.1)\n",
            "Requirement already satisfied: pyparsing>=2.3.1 in /usr/local/lib/python3.10/dist-packages (from matplotlib->wordcloud) (3.1.0)\n",
            "Requirement already satisfied: python-dateutil>=2.7 in /usr/local/lib/python3.10/dist-packages (from matplotlib->wordcloud) (2.8.2)\n",
            "Requirement already satisfied: six>=1.5 in /usr/local/lib/python3.10/dist-packages (from python-dateutil>=2.7->matplotlib->wordcloud) (1.16.0)\n"
          ]
        },
        {
          "output_type": "display_data",
          "data": {
            "text/plain": [
              "<Figure size 1500x750 with 12 Axes>"
            ],
            "image/png": "[encoded data removed]"
          },
          "metadata": {}
        }
      ]
    },
    {
      "cell_type": "markdown",
      "source": [
        "**Visualize the popularity of each topic**"
      ],
      "metadata": {
        "id": "U_7McecT3fOA"
      }
    },
    {
      "cell_type": "code",
      "source": [
        "#Compute topic distribution for each document\n",
        "TopicDis_Doc = lda.transform(ReducedCount)\n",
        "\n",
        "#Compute overall topic distribution for all each documents\n",
        "Overall_Topic_Dis = sum(TopicDis_Doc)/sum(sum(TopicDis_Doc))\n",
        "Overall_Topic_Dis"
      ],
      "metadata": {
        "colab": {
          "base_uri": "https://localhost:8080/"
        },
        "id": "LW-2D3EF2QGM",
        "outputId": "ce4f43fe-e3d5-4e3d-f016-2a1404f0d8ba"
      },
      "execution_count": null,
      "outputs": [
        {
          "output_type": "execute_result",
          "data": {
            "text/plain": [
              "array([0.08212522, 0.08837262, 0.10870249, 0.10645079, 0.09100338,\n",
              "       0.08019944, 0.09933443, 0.10467259, 0.09883519, 0.14030385])"
            ]
          },
          "metadata": {},
          "execution_count": 54
        }
      ]
    },
    {
      "cell_type": "code",
      "source": [
        "TopicDis_Doc.shape"
      ],
      "metadata": {
        "colab": {
          "base_uri": "https://localhost:8080/"
        },
        "id": "-X3QYYr52XKT",
        "outputId": "8cb7c04d-da42-42fa-8557-a0438492ff3e"
      },
      "execution_count": null,
      "outputs": [
        {
          "output_type": "execute_result",
          "data": {
            "text/plain": [
              "(9159, 10)"
            ]
          },
          "metadata": {},
          "execution_count": 55
        }
      ]
    },
    {
      "cell_type": "code",
      "source": [
        "#Find the highest proababilities of the topics\n",
        "np.argmax(TopicDis_Doc, axis = 1 )"
      ],
      "metadata": {
        "colab": {
          "base_uri": "https://localhost:8080/"
        },
        "id": "vYR8u3Ts2Z-q",
        "outputId": "73ad6395-4b8f-49f8-8483-92d14e5610a6"
      },
      "execution_count": null,
      "outputs": [
        {
          "output_type": "execute_result",
          "data": {
            "text/plain": [
              "array([5, 5, 5, ..., 7, 0, 3])"
            ]
          },
          "metadata": {},
          "execution_count": 56
        }
      ]
    },
    {
      "cell_type": "code",
      "source": [
        "# Get the topic index\n",
        "Bar_index = np.asarray(range(1,number_topics+1))\n",
        "\n",
        "#Visualize topic distributions of review groups\n",
        "pyplot.figure(figsize=(7,4))\n",
        "pyplot.title('Topic Popularity', fontsize=16)\n",
        "pyplot.xlabel('Topic')\n",
        "pyplot.ylabel('Probability')\n",
        "pyplot.bar(Bar_index, Overall_Topic_Dis.tolist(), 0.3, color='#46185e')\n",
        "pyplot.xticks(Bar_index, Bar_index)\n",
        "pyplot.legend()\n",
        "pyplot.show();"
      ],
      "metadata": {
        "colab": {
          "base_uri": "https://localhost:8080/",
          "height": 429
        },
        "id": "0Q9B2GoW2cbz",
        "outputId": "b6209aea-111d-4cc5-badb-14a9e160bfba"
      },
      "execution_count": null,
      "outputs": [
        {
          "output_type": "stream",
          "name": "stderr",
          "text": [
            "WARNING:matplotlib.legend:No artists with labels found to put in legend.  Note that artists whose label start with an underscore are ignored when legend() is called with no argument.\n"
          ]
        },
        {
          "output_type": "display_data",
          "data": {
            "text/plain": [
              "<Figure size 700x400 with 1 Axes>"
            ],
            "image/png": "[encoded data removed]"
          },
          "metadata": {}
        }
      ]
    },
    {
      "cell_type": "markdown",
      "metadata": {
        "id": "QH1HJ3kUs2Vl"
      },
      "source": [
        "<a id = \"cell_Practicalimplication\"></a>\n",
        "### 5. Practical Implication\n",
        "\n",
        "Based on the finding of the analysis, business could identify the areas where customers feel negative to improve. Airlines could improve customers waiting time in queue by hiring more cheking agents or adopt self-checking machines to fasten the checking process. Booking systmem are also mentioned frequently as an issue due to customers havng to spend lots of time on the system. Thus, airlines could upgrade their booking systmem infrasctructure to enable customers make bookings more convenient. It it notable that Jetblue airline is mentioned here as a better option for customers, which could be an indicator that customers might leave to another competitor. It is worth to study more how Jetblue provide service and then adopt new startegies to win customers. Customer service is also an aspect to be improved especially with the staff and the phone service. It seems that customer's opinion about phone calls to customer service to be negative. Airline could tackle this issue by training their customer service staff more, or hiring more staff to meet with the number of calling inquries.\n",
        "\n",
        "Although this analysis does not dive deeper in positive and neutral sentiments, these opinions could provide insignts to improve business. They can look at positive commments to create an upsell strategies to convert customers with positive sentiments to become loyal flyers, or they can provide promotion to neutral people to convert them to choose the airline for future travel. It is also good to look at what competitors are doing to create a response plan. For example if JetBlue is good with their booking system, then American airline could focus on improving its booking system first to win customers back rather than other innovation in its business actio plan.   \n",
        "\n"
      ]
    }
  ],
  "metadata": {
    "colab": {
      "provenance": [],
      "toc_visible": true,
      "include_colab_link": true
    },
    "kernelspec": {
      "display_name": "Python 3",
      "language": "python",
      "name": "python3"
    },
    "language_info": {
      "codemirror_mode": {
        "name": "ipython",
        "version": 3
      },
      "file_extension": ".py",
      "mimetype": "text/x-python",
      "name": "python",
      "nbconvert_exporter": "python",
      "pygments_lexer": "ipython3",
      "version": "3.8.5"
    }
  },
  "nbformat": 4,
  "nbformat_minor": 0
}